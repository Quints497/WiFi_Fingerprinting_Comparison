{
 "cells": [
  {
   "cell_type": "code",
   "execution_count": 1,
   "metadata": {},
   "outputs": [],
   "source": [
    "import matplotlib.pyplot as plt\n",
    "import pandas as pd\n",
    "import numpy as np\n",
    "import math as ma"
   ]
  },
  {
   "cell_type": "code",
   "execution_count": 2,
   "metadata": {},
   "outputs": [
    {
     "data": {
      "text/html": [
       "<div>\n",
       "<style scoped>\n",
       "    .dataframe tbody tr th:only-of-type {\n",
       "        vertical-align: middle;\n",
       "    }\n",
       "\n",
       "    .dataframe tbody tr th {\n",
       "        vertical-align: top;\n",
       "    }\n",
       "\n",
       "    .dataframe thead th {\n",
       "        text-align: right;\n",
       "    }\n",
       "</style>\n",
       "<table border=\"1\" class=\"dataframe\">\n",
       "  <thead>\n",
       "    <tr style=\"text-align: right;\">\n",
       "      <th></th>\n",
       "      <th>WAP001</th>\n",
       "      <th>WAP002</th>\n",
       "      <th>WAP003</th>\n",
       "      <th>WAP004</th>\n",
       "      <th>WAP005</th>\n",
       "      <th>WAP006</th>\n",
       "      <th>WAP007</th>\n",
       "      <th>WAP008</th>\n",
       "      <th>WAP009</th>\n",
       "      <th>WAP010</th>\n",
       "      <th>...</th>\n",
       "      <th>WAP515</th>\n",
       "      <th>WAP516</th>\n",
       "      <th>WAP517</th>\n",
       "      <th>WAP518</th>\n",
       "      <th>WAP519</th>\n",
       "      <th>WAP520</th>\n",
       "      <th>LONGITUDE</th>\n",
       "      <th>LATITUDE</th>\n",
       "      <th>FLOOR</th>\n",
       "      <th>BUILDINGID</th>\n",
       "    </tr>\n",
       "  </thead>\n",
       "  <tbody>\n",
       "    <tr>\n",
       "      <th>0</th>\n",
       "      <td>100</td>\n",
       "      <td>100</td>\n",
       "      <td>100</td>\n",
       "      <td>100</td>\n",
       "      <td>100</td>\n",
       "      <td>100</td>\n",
       "      <td>100</td>\n",
       "      <td>100</td>\n",
       "      <td>100</td>\n",
       "      <td>100</td>\n",
       "      <td>...</td>\n",
       "      <td>100</td>\n",
       "      <td>100</td>\n",
       "      <td>100</td>\n",
       "      <td>100</td>\n",
       "      <td>100</td>\n",
       "      <td>100</td>\n",
       "      <td>-7515.916799</td>\n",
       "      <td>4.864890e+06</td>\n",
       "      <td>1</td>\n",
       "      <td>1</td>\n",
       "    </tr>\n",
       "    <tr>\n",
       "      <th>1</th>\n",
       "      <td>100</td>\n",
       "      <td>100</td>\n",
       "      <td>100</td>\n",
       "      <td>100</td>\n",
       "      <td>100</td>\n",
       "      <td>100</td>\n",
       "      <td>100</td>\n",
       "      <td>100</td>\n",
       "      <td>100</td>\n",
       "      <td>100</td>\n",
       "      <td>...</td>\n",
       "      <td>100</td>\n",
       "      <td>100</td>\n",
       "      <td>100</td>\n",
       "      <td>100</td>\n",
       "      <td>100</td>\n",
       "      <td>100</td>\n",
       "      <td>-7383.867221</td>\n",
       "      <td>4.864840e+06</td>\n",
       "      <td>4</td>\n",
       "      <td>2</td>\n",
       "    </tr>\n",
       "    <tr>\n",
       "      <th>2</th>\n",
       "      <td>100</td>\n",
       "      <td>100</td>\n",
       "      <td>100</td>\n",
       "      <td>100</td>\n",
       "      <td>100</td>\n",
       "      <td>100</td>\n",
       "      <td>100</td>\n",
       "      <td>100</td>\n",
       "      <td>100</td>\n",
       "      <td>100</td>\n",
       "      <td>...</td>\n",
       "      <td>100</td>\n",
       "      <td>100</td>\n",
       "      <td>100</td>\n",
       "      <td>100</td>\n",
       "      <td>100</td>\n",
       "      <td>100</td>\n",
       "      <td>-7374.302080</td>\n",
       "      <td>4.864847e+06</td>\n",
       "      <td>4</td>\n",
       "      <td>2</td>\n",
       "    </tr>\n",
       "    <tr>\n",
       "      <th>3</th>\n",
       "      <td>100</td>\n",
       "      <td>100</td>\n",
       "      <td>100</td>\n",
       "      <td>100</td>\n",
       "      <td>100</td>\n",
       "      <td>100</td>\n",
       "      <td>100</td>\n",
       "      <td>100</td>\n",
       "      <td>100</td>\n",
       "      <td>100</td>\n",
       "      <td>...</td>\n",
       "      <td>100</td>\n",
       "      <td>100</td>\n",
       "      <td>100</td>\n",
       "      <td>100</td>\n",
       "      <td>100</td>\n",
       "      <td>100</td>\n",
       "      <td>-7365.824883</td>\n",
       "      <td>4.864843e+06</td>\n",
       "      <td>4</td>\n",
       "      <td>2</td>\n",
       "    </tr>\n",
       "    <tr>\n",
       "      <th>4</th>\n",
       "      <td>100</td>\n",
       "      <td>100</td>\n",
       "      <td>100</td>\n",
       "      <td>100</td>\n",
       "      <td>100</td>\n",
       "      <td>100</td>\n",
       "      <td>100</td>\n",
       "      <td>100</td>\n",
       "      <td>100</td>\n",
       "      <td>100</td>\n",
       "      <td>...</td>\n",
       "      <td>100</td>\n",
       "      <td>100</td>\n",
       "      <td>100</td>\n",
       "      <td>100</td>\n",
       "      <td>100</td>\n",
       "      <td>100</td>\n",
       "      <td>-7641.499303</td>\n",
       "      <td>4.864922e+06</td>\n",
       "      <td>2</td>\n",
       "      <td>0</td>\n",
       "    </tr>\n",
       "    <tr>\n",
       "      <th>...</th>\n",
       "      <td>...</td>\n",
       "      <td>...</td>\n",
       "      <td>...</td>\n",
       "      <td>...</td>\n",
       "      <td>...</td>\n",
       "      <td>...</td>\n",
       "      <td>...</td>\n",
       "      <td>...</td>\n",
       "      <td>...</td>\n",
       "      <td>...</td>\n",
       "      <td>...</td>\n",
       "      <td>...</td>\n",
       "      <td>...</td>\n",
       "      <td>...</td>\n",
       "      <td>...</td>\n",
       "      <td>...</td>\n",
       "      <td>...</td>\n",
       "      <td>...</td>\n",
       "      <td>...</td>\n",
       "      <td>...</td>\n",
       "      <td>...</td>\n",
       "    </tr>\n",
       "    <tr>\n",
       "      <th>21043</th>\n",
       "      <td>100</td>\n",
       "      <td>100</td>\n",
       "      <td>100</td>\n",
       "      <td>100</td>\n",
       "      <td>100</td>\n",
       "      <td>100</td>\n",
       "      <td>100</td>\n",
       "      <td>100</td>\n",
       "      <td>100</td>\n",
       "      <td>100</td>\n",
       "      <td>...</td>\n",
       "      <td>100</td>\n",
       "      <td>100</td>\n",
       "      <td>100</td>\n",
       "      <td>100</td>\n",
       "      <td>100</td>\n",
       "      <td>100</td>\n",
       "      <td>-7485.468600</td>\n",
       "      <td>4.864875e+06</td>\n",
       "      <td>3</td>\n",
       "      <td>1</td>\n",
       "    </tr>\n",
       "    <tr>\n",
       "      <th>21044</th>\n",
       "      <td>100</td>\n",
       "      <td>100</td>\n",
       "      <td>100</td>\n",
       "      <td>100</td>\n",
       "      <td>100</td>\n",
       "      <td>100</td>\n",
       "      <td>100</td>\n",
       "      <td>100</td>\n",
       "      <td>100</td>\n",
       "      <td>100</td>\n",
       "      <td>...</td>\n",
       "      <td>100</td>\n",
       "      <td>100</td>\n",
       "      <td>100</td>\n",
       "      <td>100</td>\n",
       "      <td>100</td>\n",
       "      <td>100</td>\n",
       "      <td>-7390.620600</td>\n",
       "      <td>4.864836e+06</td>\n",
       "      <td>1</td>\n",
       "      <td>2</td>\n",
       "    </tr>\n",
       "    <tr>\n",
       "      <th>21045</th>\n",
       "      <td>100</td>\n",
       "      <td>100</td>\n",
       "      <td>100</td>\n",
       "      <td>100</td>\n",
       "      <td>100</td>\n",
       "      <td>100</td>\n",
       "      <td>100</td>\n",
       "      <td>100</td>\n",
       "      <td>100</td>\n",
       "      <td>100</td>\n",
       "      <td>...</td>\n",
       "      <td>100</td>\n",
       "      <td>100</td>\n",
       "      <td>100</td>\n",
       "      <td>100</td>\n",
       "      <td>100</td>\n",
       "      <td>100</td>\n",
       "      <td>-7516.841500</td>\n",
       "      <td>4.864889e+06</td>\n",
       "      <td>3</td>\n",
       "      <td>1</td>\n",
       "    </tr>\n",
       "    <tr>\n",
       "      <th>21046</th>\n",
       "      <td>100</td>\n",
       "      <td>100</td>\n",
       "      <td>100</td>\n",
       "      <td>100</td>\n",
       "      <td>100</td>\n",
       "      <td>100</td>\n",
       "      <td>100</td>\n",
       "      <td>100</td>\n",
       "      <td>100</td>\n",
       "      <td>100</td>\n",
       "      <td>...</td>\n",
       "      <td>100</td>\n",
       "      <td>100</td>\n",
       "      <td>100</td>\n",
       "      <td>100</td>\n",
       "      <td>100</td>\n",
       "      <td>100</td>\n",
       "      <td>-7537.321900</td>\n",
       "      <td>4.864896e+06</td>\n",
       "      <td>3</td>\n",
       "      <td>1</td>\n",
       "    </tr>\n",
       "    <tr>\n",
       "      <th>21047</th>\n",
       "      <td>100</td>\n",
       "      <td>100</td>\n",
       "      <td>100</td>\n",
       "      <td>100</td>\n",
       "      <td>100</td>\n",
       "      <td>100</td>\n",
       "      <td>100</td>\n",
       "      <td>100</td>\n",
       "      <td>100</td>\n",
       "      <td>100</td>\n",
       "      <td>...</td>\n",
       "      <td>100</td>\n",
       "      <td>100</td>\n",
       "      <td>100</td>\n",
       "      <td>100</td>\n",
       "      <td>100</td>\n",
       "      <td>100</td>\n",
       "      <td>-7536.165800</td>\n",
       "      <td>4.864898e+06</td>\n",
       "      <td>3</td>\n",
       "      <td>1</td>\n",
       "    </tr>\n",
       "  </tbody>\n",
       "</table>\n",
       "<p>21048 rows × 524 columns</p>\n",
       "</div>"
      ],
      "text/plain": [
       "       WAP001  WAP002  WAP003  WAP004  WAP005  WAP006  WAP007  WAP008  WAP009  \\\n",
       "0         100     100     100     100     100     100     100     100     100   \n",
       "1         100     100     100     100     100     100     100     100     100   \n",
       "2         100     100     100     100     100     100     100     100     100   \n",
       "3         100     100     100     100     100     100     100     100     100   \n",
       "4         100     100     100     100     100     100     100     100     100   \n",
       "...       ...     ...     ...     ...     ...     ...     ...     ...     ...   \n",
       "21043     100     100     100     100     100     100     100     100     100   \n",
       "21044     100     100     100     100     100     100     100     100     100   \n",
       "21045     100     100     100     100     100     100     100     100     100   \n",
       "21046     100     100     100     100     100     100     100     100     100   \n",
       "21047     100     100     100     100     100     100     100     100     100   \n",
       "\n",
       "       WAP010  ...  WAP515  WAP516  WAP517  WAP518  WAP519  WAP520  \\\n",
       "0         100  ...     100     100     100     100     100     100   \n",
       "1         100  ...     100     100     100     100     100     100   \n",
       "2         100  ...     100     100     100     100     100     100   \n",
       "3         100  ...     100     100     100     100     100     100   \n",
       "4         100  ...     100     100     100     100     100     100   \n",
       "...       ...  ...     ...     ...     ...     ...     ...     ...   \n",
       "21043     100  ...     100     100     100     100     100     100   \n",
       "21044     100  ...     100     100     100     100     100     100   \n",
       "21045     100  ...     100     100     100     100     100     100   \n",
       "21046     100  ...     100     100     100     100     100     100   \n",
       "21047     100  ...     100     100     100     100     100     100   \n",
       "\n",
       "         LONGITUDE      LATITUDE  FLOOR  BUILDINGID  \n",
       "0     -7515.916799  4.864890e+06      1           1  \n",
       "1     -7383.867221  4.864840e+06      4           2  \n",
       "2     -7374.302080  4.864847e+06      4           2  \n",
       "3     -7365.824883  4.864843e+06      4           2  \n",
       "4     -7641.499303  4.864922e+06      2           0  \n",
       "...            ...           ...    ...         ...  \n",
       "21043 -7485.468600  4.864875e+06      3           1  \n",
       "21044 -7390.620600  4.864836e+06      1           2  \n",
       "21045 -7516.841500  4.864889e+06      3           1  \n",
       "21046 -7537.321900  4.864896e+06      3           1  \n",
       "21047 -7536.165800  4.864898e+06      3           1  \n",
       "\n",
       "[21048 rows x 524 columns]"
      ]
     },
     "execution_count": 2,
     "metadata": {},
     "output_type": "execute_result"
    }
   ],
   "source": [
    "# import the data\n",
    "training_data = pd.read_csv(\"Dataset/trainingData.csv\")\n",
    "testing_data = pd.read_csv(\"Dataset/validationData.csv\")\n",
    "# drop columns that won't be in use\n",
    "training_data = training_data.drop(columns=['SPACEID', 'RELATIVEPOSITION', 'USERID', 'PHONEID', 'TIMESTAMP'])\n",
    "testing_data = testing_data.drop(columns=['SPACEID', 'RELATIVEPOSITION', 'USERID', 'PHONEID', 'TIMESTAMP'])\n",
    "# join the training and testing data\n",
    "data = pd.concat([testing_data, training_data], ignore_index=True)\n",
    "# create a copy for visualisations\n",
    "data_explore = data.copy()\n",
    "\n",
    "# split the rssi_levels (features) from the rest (labels) for further exploration\n",
    "rssi_levels = data_explore.iloc[:, 0:520]\n",
    "longitude = data_explore.iloc[:, 520]\n",
    "latitude = data_explore.iloc[:, 521]\n",
    "floor = data_explore.iloc[:, 522]\n",
    "building = data_explore.iloc[:, 523]\n",
    "\n",
    "data_explore"
   ]
  },
  {
   "cell_type": "code",
   "execution_count": 3,
   "metadata": {},
   "outputs": [
    {
     "data": {
      "text/html": [
       "<div>\n",
       "<style scoped>\n",
       "    .dataframe tbody tr th:only-of-type {\n",
       "        vertical-align: middle;\n",
       "    }\n",
       "\n",
       "    .dataframe tbody tr th {\n",
       "        vertical-align: top;\n",
       "    }\n",
       "\n",
       "    .dataframe thead th {\n",
       "        text-align: right;\n",
       "    }\n",
       "</style>\n",
       "<table border=\"1\" class=\"dataframe\">\n",
       "  <thead>\n",
       "    <tr style=\"text-align: right;\">\n",
       "      <th></th>\n",
       "      <th>WAP001</th>\n",
       "      <th>WAP002</th>\n",
       "      <th>WAP003</th>\n",
       "      <th>WAP004</th>\n",
       "      <th>WAP005</th>\n",
       "      <th>WAP006</th>\n",
       "      <th>WAP007</th>\n",
       "      <th>WAP008</th>\n",
       "      <th>WAP009</th>\n",
       "      <th>WAP010</th>\n",
       "      <th>...</th>\n",
       "      <th>WAP515</th>\n",
       "      <th>WAP516</th>\n",
       "      <th>WAP517</th>\n",
       "      <th>WAP518</th>\n",
       "      <th>WAP519</th>\n",
       "      <th>WAP520</th>\n",
       "      <th>LONGITUDE</th>\n",
       "      <th>LATITUDE</th>\n",
       "      <th>FLOOR</th>\n",
       "      <th>BUILDINGID</th>\n",
       "    </tr>\n",
       "  </thead>\n",
       "  <tbody>\n",
       "    <tr>\n",
       "      <th>0</th>\n",
       "      <td>100</td>\n",
       "      <td>100</td>\n",
       "      <td>100</td>\n",
       "      <td>100</td>\n",
       "      <td>100</td>\n",
       "      <td>100</td>\n",
       "      <td>100</td>\n",
       "      <td>100</td>\n",
       "      <td>100</td>\n",
       "      <td>100</td>\n",
       "      <td>...</td>\n",
       "      <td>100</td>\n",
       "      <td>100</td>\n",
       "      <td>100</td>\n",
       "      <td>100</td>\n",
       "      <td>100</td>\n",
       "      <td>100</td>\n",
       "      <td>-7515.916799</td>\n",
       "      <td>4.864890e+06</td>\n",
       "      <td>1</td>\n",
       "      <td>1</td>\n",
       "    </tr>\n",
       "    <tr>\n",
       "      <th>1</th>\n",
       "      <td>100</td>\n",
       "      <td>100</td>\n",
       "      <td>100</td>\n",
       "      <td>100</td>\n",
       "      <td>100</td>\n",
       "      <td>100</td>\n",
       "      <td>100</td>\n",
       "      <td>100</td>\n",
       "      <td>100</td>\n",
       "      <td>100</td>\n",
       "      <td>...</td>\n",
       "      <td>100</td>\n",
       "      <td>100</td>\n",
       "      <td>100</td>\n",
       "      <td>100</td>\n",
       "      <td>100</td>\n",
       "      <td>100</td>\n",
       "      <td>-7383.867221</td>\n",
       "      <td>4.864840e+06</td>\n",
       "      <td>4</td>\n",
       "      <td>2</td>\n",
       "    </tr>\n",
       "    <tr>\n",
       "      <th>2</th>\n",
       "      <td>100</td>\n",
       "      <td>100</td>\n",
       "      <td>100</td>\n",
       "      <td>100</td>\n",
       "      <td>100</td>\n",
       "      <td>100</td>\n",
       "      <td>100</td>\n",
       "      <td>100</td>\n",
       "      <td>100</td>\n",
       "      <td>100</td>\n",
       "      <td>...</td>\n",
       "      <td>100</td>\n",
       "      <td>100</td>\n",
       "      <td>100</td>\n",
       "      <td>100</td>\n",
       "      <td>100</td>\n",
       "      <td>100</td>\n",
       "      <td>-7374.302080</td>\n",
       "      <td>4.864847e+06</td>\n",
       "      <td>4</td>\n",
       "      <td>2</td>\n",
       "    </tr>\n",
       "    <tr>\n",
       "      <th>3</th>\n",
       "      <td>100</td>\n",
       "      <td>100</td>\n",
       "      <td>100</td>\n",
       "      <td>100</td>\n",
       "      <td>100</td>\n",
       "      <td>100</td>\n",
       "      <td>100</td>\n",
       "      <td>100</td>\n",
       "      <td>100</td>\n",
       "      <td>100</td>\n",
       "      <td>...</td>\n",
       "      <td>100</td>\n",
       "      <td>100</td>\n",
       "      <td>100</td>\n",
       "      <td>100</td>\n",
       "      <td>100</td>\n",
       "      <td>100</td>\n",
       "      <td>-7365.824883</td>\n",
       "      <td>4.864843e+06</td>\n",
       "      <td>4</td>\n",
       "      <td>2</td>\n",
       "    </tr>\n",
       "    <tr>\n",
       "      <th>4</th>\n",
       "      <td>100</td>\n",
       "      <td>100</td>\n",
       "      <td>100</td>\n",
       "      <td>100</td>\n",
       "      <td>100</td>\n",
       "      <td>100</td>\n",
       "      <td>100</td>\n",
       "      <td>100</td>\n",
       "      <td>100</td>\n",
       "      <td>100</td>\n",
       "      <td>...</td>\n",
       "      <td>100</td>\n",
       "      <td>100</td>\n",
       "      <td>100</td>\n",
       "      <td>100</td>\n",
       "      <td>100</td>\n",
       "      <td>100</td>\n",
       "      <td>-7641.499303</td>\n",
       "      <td>4.864922e+06</td>\n",
       "      <td>2</td>\n",
       "      <td>0</td>\n",
       "    </tr>\n",
       "    <tr>\n",
       "      <th>...</th>\n",
       "      <td>...</td>\n",
       "      <td>...</td>\n",
       "      <td>...</td>\n",
       "      <td>...</td>\n",
       "      <td>...</td>\n",
       "      <td>...</td>\n",
       "      <td>...</td>\n",
       "      <td>...</td>\n",
       "      <td>...</td>\n",
       "      <td>...</td>\n",
       "      <td>...</td>\n",
       "      <td>...</td>\n",
       "      <td>...</td>\n",
       "      <td>...</td>\n",
       "      <td>...</td>\n",
       "      <td>...</td>\n",
       "      <td>...</td>\n",
       "      <td>...</td>\n",
       "      <td>...</td>\n",
       "      <td>...</td>\n",
       "      <td>...</td>\n",
       "    </tr>\n",
       "    <tr>\n",
       "      <th>1106</th>\n",
       "      <td>100</td>\n",
       "      <td>100</td>\n",
       "      <td>100</td>\n",
       "      <td>100</td>\n",
       "      <td>100</td>\n",
       "      <td>100</td>\n",
       "      <td>100</td>\n",
       "      <td>100</td>\n",
       "      <td>100</td>\n",
       "      <td>100</td>\n",
       "      <td>...</td>\n",
       "      <td>100</td>\n",
       "      <td>100</td>\n",
       "      <td>100</td>\n",
       "      <td>100</td>\n",
       "      <td>100</td>\n",
       "      <td>100</td>\n",
       "      <td>-7317.344231</td>\n",
       "      <td>4.864796e+06</td>\n",
       "      <td>3</td>\n",
       "      <td>2</td>\n",
       "    </tr>\n",
       "    <tr>\n",
       "      <th>1107</th>\n",
       "      <td>100</td>\n",
       "      <td>100</td>\n",
       "      <td>100</td>\n",
       "      <td>100</td>\n",
       "      <td>100</td>\n",
       "      <td>100</td>\n",
       "      <td>100</td>\n",
       "      <td>100</td>\n",
       "      <td>100</td>\n",
       "      <td>100</td>\n",
       "      <td>...</td>\n",
       "      <td>100</td>\n",
       "      <td>100</td>\n",
       "      <td>100</td>\n",
       "      <td>100</td>\n",
       "      <td>100</td>\n",
       "      <td>100</td>\n",
       "      <td>-7313.731120</td>\n",
       "      <td>4.864792e+06</td>\n",
       "      <td>3</td>\n",
       "      <td>2</td>\n",
       "    </tr>\n",
       "    <tr>\n",
       "      <th>1108</th>\n",
       "      <td>100</td>\n",
       "      <td>100</td>\n",
       "      <td>100</td>\n",
       "      <td>100</td>\n",
       "      <td>100</td>\n",
       "      <td>100</td>\n",
       "      <td>100</td>\n",
       "      <td>100</td>\n",
       "      <td>100</td>\n",
       "      <td>100</td>\n",
       "      <td>...</td>\n",
       "      <td>100</td>\n",
       "      <td>100</td>\n",
       "      <td>100</td>\n",
       "      <td>100</td>\n",
       "      <td>100</td>\n",
       "      <td>100</td>\n",
       "      <td>-7637.535798</td>\n",
       "      <td>4.864903e+06</td>\n",
       "      <td>0</td>\n",
       "      <td>0</td>\n",
       "    </tr>\n",
       "    <tr>\n",
       "      <th>1109</th>\n",
       "      <td>100</td>\n",
       "      <td>100</td>\n",
       "      <td>100</td>\n",
       "      <td>100</td>\n",
       "      <td>100</td>\n",
       "      <td>100</td>\n",
       "      <td>100</td>\n",
       "      <td>100</td>\n",
       "      <td>100</td>\n",
       "      <td>100</td>\n",
       "      <td>...</td>\n",
       "      <td>100</td>\n",
       "      <td>100</td>\n",
       "      <td>100</td>\n",
       "      <td>100</td>\n",
       "      <td>100</td>\n",
       "      <td>100</td>\n",
       "      <td>-7636.654005</td>\n",
       "      <td>4.864905e+06</td>\n",
       "      <td>0</td>\n",
       "      <td>0</td>\n",
       "    </tr>\n",
       "    <tr>\n",
       "      <th>1110</th>\n",
       "      <td>100</td>\n",
       "      <td>100</td>\n",
       "      <td>100</td>\n",
       "      <td>100</td>\n",
       "      <td>100</td>\n",
       "      <td>100</td>\n",
       "      <td>100</td>\n",
       "      <td>100</td>\n",
       "      <td>100</td>\n",
       "      <td>100</td>\n",
       "      <td>...</td>\n",
       "      <td>100</td>\n",
       "      <td>100</td>\n",
       "      <td>100</td>\n",
       "      <td>100</td>\n",
       "      <td>100</td>\n",
       "      <td>100</td>\n",
       "      <td>-7637.944120</td>\n",
       "      <td>4.864904e+06</td>\n",
       "      <td>0</td>\n",
       "      <td>0</td>\n",
       "    </tr>\n",
       "  </tbody>\n",
       "</table>\n",
       "<p>1111 rows × 524 columns</p>\n",
       "</div>"
      ],
      "text/plain": [
       "      WAP001  WAP002  WAP003  WAP004  WAP005  WAP006  WAP007  WAP008  WAP009  \\\n",
       "0        100     100     100     100     100     100     100     100     100   \n",
       "1        100     100     100     100     100     100     100     100     100   \n",
       "2        100     100     100     100     100     100     100     100     100   \n",
       "3        100     100     100     100     100     100     100     100     100   \n",
       "4        100     100     100     100     100     100     100     100     100   \n",
       "...      ...     ...     ...     ...     ...     ...     ...     ...     ...   \n",
       "1106     100     100     100     100     100     100     100     100     100   \n",
       "1107     100     100     100     100     100     100     100     100     100   \n",
       "1108     100     100     100     100     100     100     100     100     100   \n",
       "1109     100     100     100     100     100     100     100     100     100   \n",
       "1110     100     100     100     100     100     100     100     100     100   \n",
       "\n",
       "      WAP010  ...  WAP515  WAP516  WAP517  WAP518  WAP519  WAP520  \\\n",
       "0        100  ...     100     100     100     100     100     100   \n",
       "1        100  ...     100     100     100     100     100     100   \n",
       "2        100  ...     100     100     100     100     100     100   \n",
       "3        100  ...     100     100     100     100     100     100   \n",
       "4        100  ...     100     100     100     100     100     100   \n",
       "...      ...  ...     ...     ...     ...     ...     ...     ...   \n",
       "1106     100  ...     100     100     100     100     100     100   \n",
       "1107     100  ...     100     100     100     100     100     100   \n",
       "1108     100  ...     100     100     100     100     100     100   \n",
       "1109     100  ...     100     100     100     100     100     100   \n",
       "1110     100  ...     100     100     100     100     100     100   \n",
       "\n",
       "        LONGITUDE      LATITUDE  FLOOR  BUILDINGID  \n",
       "0    -7515.916799  4.864890e+06      1           1  \n",
       "1    -7383.867221  4.864840e+06      4           2  \n",
       "2    -7374.302080  4.864847e+06      4           2  \n",
       "3    -7365.824883  4.864843e+06      4           2  \n",
       "4    -7641.499303  4.864922e+06      2           0  \n",
       "...           ...           ...    ...         ...  \n",
       "1106 -7317.344231  4.864796e+06      3           2  \n",
       "1107 -7313.731120  4.864792e+06      3           2  \n",
       "1108 -7637.535798  4.864903e+06      0           0  \n",
       "1109 -7636.654005  4.864905e+06      0           0  \n",
       "1110 -7637.944120  4.864904e+06      0           0  \n",
       "\n",
       "[1111 rows x 524 columns]"
      ]
     },
     "execution_count": 3,
     "metadata": {},
     "output_type": "execute_result"
    }
   ],
   "source": [
    "testing_data"
   ]
  },
  {
   "cell_type": "code",
   "execution_count": 4,
   "metadata": {},
   "outputs": [],
   "source": [
    "# empty lists for storage\n",
    "list_of_rssi_levels = []\n",
    "list_of_num_of_waps = []\n",
    "# loop through each row of the rssi values\n",
    "for row in rssi_levels.values:\n",
    "    # start of each row\n",
    "    # number of valid WAPs per row\n",
    "    num_of_waps = 0\n",
    "    for value in row:\n",
    "        # each value\n",
    "        # check if the current value was recorded\n",
    "        if value <= 0: \n",
    "            num_of_waps += 1\n",
    "            list_of_rssi_levels.append(value)\n",
    "    # end of each row\n",
    "    list_of_num_of_waps.append(num_of_waps)"
   ]
  },
  {
   "cell_type": "markdown",
   "metadata": {},
   "source": [
    "##### Histograms <a class='anchor' id='histograms'></a>\n",
    "\n",
    "In the 'Distribution of WAPs detected per reading' it shows that the majority of the time there are between 10 & 20 WAPs detected at each reading. Given that there are 520 unique WAPs in the dataset, this is not very good as on average the algorithms will only be training off of between 10 & 20 features. Because if the RSS value is not recorded it has been placed in the dataset with the artifical value of +100, thus wasting extra time training the model with more features than are not needed.\n",
    "\n",
    "Then looking over at the 'Distribution of RSS values' the most common reading recorded is between the range of -80 & -90dbm, this proves to be another issue related to the recorded features. As a perfect signal is represented by 0dBm and a very weak signal is around the -100dBm region. "
   ]
  },
  {
   "cell_type": "code",
   "execution_count": 5,
   "metadata": {
    "scrolled": true
   },
   "outputs": [
    {
     "data": {
      "image/png": "[encoded data removed]",
      "text/plain": [
       "<Figure size 1008x360 with 2 Axes>"
      ]
     },
     "metadata": {
      "needs_background": "light"
     },
     "output_type": "display_data"
    }
   ],
   "source": [
    "histograms = [list_of_num_of_waps, list_of_rssi_levels]\n",
    "colours = ['blue', 'red']\n",
    "titles = ['Distribution of WAPs detected per reading', 'Distribution of RSS values']\n",
    "x_labels = ['Number of wireless access points (WAPs) detected', 'Recieved Signal Strength (dBm)']\n",
    "\n",
    "fig, axs = plt.subplots(1, 2, constrained_layout=True, figsize=(14, 5))\n",
    "fig.text(-0.05, 0.5, 'Dense Frequency', va='center', rotation='vertical', fontsize=20)\n",
    "\n",
    "for n in range(len(axs)):\n",
    "    axs[n].hist(histograms[n], density=True, color=colours[n])\n",
    "    axs[n].set_title(titles[n], fontsize=16)\n",
    "    axs[n].set_xlabel(x_labels[n], fontsize=14, color=colours[n])\n",
    "    axs[n].set_xlim(np.min(histograms[n]), np.max(histograms[n]))\n",
    "    \n",
    "\n",
    "plt.show()"
   ]
  },
  {
   "cell_type": "code",
   "execution_count": 6,
   "metadata": {},
   "outputs": [],
   "source": [
    "# empty lists for storage\n",
    "b1 = []\n",
    "b2 = []\n",
    "b3 = []\n",
    "\n",
    "# loop as many times as there are rows in the dataset\n",
    "for i in range(len(data_explore)):\n",
    "    # get the buildingid and floorid of that row\n",
    "    buildingid = data_explore['BUILDINGID'][i]\n",
    "    floorid = data_explore['FLOOR'][i]\n",
    "    \n",
    "    # check what building the value was recorded in and add the respective floorid\n",
    "    if buildingid == 0:\n",
    "        b1.append(floorid)\n",
    "    elif buildingid == 1:\n",
    "        b2.append(floorid)\n",
    "    else:\n",
    "        b3.append(floorid)"
   ]
  },
  {
   "cell_type": "markdown",
   "metadata": {},
   "source": [
    "##### Bar Charts\n",
    "\n",
    "The three bar charts below represent the amount of times each floor occured in each building. With the majority of the dataset readings being recorded in the third building on floor three, and the least amount of readings were recorded in the second building on floor three. In the first building there were 5785, in the second building there were 5503 and in the third building there were 9760 readings recorded."
   ]
  },
  {
   "cell_type": "code",
   "execution_count": 7,
   "metadata": {
    "scrolled": false
   },
   "outputs": [
    {
     "data": {
      "image/png": "[encoded data removed]",
      "text/plain": [
       "<Figure size 1080x576 with 3 Axes>"
      ]
     },
     "metadata": {
      "needs_background": "light"
     },
     "output_type": "display_data"
    }
   ],
   "source": [
    "bar_charts = [b1, b2, b3]\n",
    "colours = ['blue', 'red', 'green']\n",
    "names = ['Building 1', 'Building 2', 'Building 3']\n",
    "\n",
    "fig, axs = plt.subplots(1, 3, constrained_layout=True, figsize=(15, 8))\n",
    "fig.suptitle('Amount of times each floor occurred in each building', fontsize=18)\n",
    "fig.text(0.5, -0.05, 'Floor No.', ha='center', fontsize=18)\n",
    "fig.text(-0.05, 0.5, 'Count', va='center', rotation='vertical', fontsize=18)\n",
    "\n",
    "\n",
    "# loop in a range of 3\n",
    "for n in range(len(axs)):\n",
    "    # count the total number of floors per building\n",
    "    x = [x for x in set(bar_charts[n])]\n",
    "    # count the total amount of times a floor occured in each building\n",
    "    count = [bar_charts[n].count(i) for i in range(len(x))]\n",
    "    \n",
    "    # create the bar graphs with the values generated above\n",
    "    axs[n].bar(x, count, color=colours[n])\n",
    "    axs[n].set_xticks(x)\n",
    "    axs[n].set_yticks([x for x in range(0, 3100, 300)])\n",
    "    axs[n].legend([len(bar_charts[n])], loc='best', title=f'{names[n]}')\n",
    "    axs[n].grid()\n",
    "\n",
    "plt.show()"
   ]
  },
  {
   "cell_type": "markdown",
   "metadata": {},
   "source": [
    "##### Scatter\n",
    "\n",
    "Below gives a visualisation of the space where the readings where taken from. Demonstrating that the middle building had the most of amount occurances where there were no WAPs detected but also where the highest amount of WAPs were detected. From the building on the right you can see that on the majority of the floors there are around 20 WAPs detected at each position, thus giving the impression it is the WAPs coverage is best in this building. And even though the middle building has the highest occurance rate of there being more than 40 WAPs detected in the position, there are not enough of these and a higher proportion of the least amount of WAPs being detected, furthermore, implying the worst WAP coverage is in this building."
   ]
  },
  {
   "cell_type": "code",
   "execution_count": 8,
   "metadata": {
    "scrolled": false
   },
   "outputs": [
    {
     "data": {
      "image/png": "[encoded data removed]",
      "text/plain": [
       "<Figure size 1440x1080 with 2 Axes>"
      ]
     },
     "metadata": {
      "needs_background": "light"
     },
     "output_type": "display_data"
    }
   ],
   "source": [
    "# 10 to the power 6\n",
    "POW6 = ma.pow(10, 6)\n",
    "# difference between the lowest and highest values of the x and y axis and the edge of the graph\n",
    "DELTA = 10\n",
    "# figure\n",
    "fig = plt.figure(figsize=(20, 15))\n",
    "ax = fig.add_subplot(projection='3d')\n",
    "\n",
    "# axis values\n",
    "x = longitude\n",
    "y = latitude\n",
    "z = floor\n",
    "c = list_of_num_of_waps\n",
    "\n",
    "# scatter plot\n",
    "img = ax.scatter(x, y, z, c=c, cmap='brg')\n",
    "\n",
    "# axis labels\n",
    "ax.set_xlabel(\"Longitude\", labelpad=50, fontsize=20)\n",
    "ax.set_ylabel(\"Latitude\", labelpad=50, fontsize=20)\n",
    "ax.set_zlabel(\"Floor\", labelpad=50, fontsize=20)\n",
    "# axis limits\n",
    "ax.set_xlim(np.min(x)-DELTA, np.max(x)+DELTA)\n",
    "ax.set_ylim(np.min(y)-DELTA, np.max(y)+DELTA)\n",
    "# axis ticks\n",
    "ax.set_xticks([-7700, -7500, -7300])\n",
    "ax.set_yticks([4.86470*POW6, 4.86490*POW6, 4.86510*POW6])\n",
    "ax.set_zticks([0, 1, 2, 3, 4])\n",
    "# viewing angle\n",
    "ax.view_init(azim=-130, elev=20)\n",
    "\n",
    "# colour bar\n",
    "cbar = fig.colorbar(img)\n",
    "cbar.ax.set_ylabel('Number of WAPs detected', rotation=270, labelpad=30, fontsize=20)\n",
    "\n",
    "\n",
    "plt.show()"
   ]
  },
  {
   "cell_type": "code",
   "execution_count": 9,
   "metadata": {},
   "outputs": [],
   "source": [
    "from sklearn.decomposition import PCA"
   ]
  },
  {
   "cell_type": "code",
   "execution_count": 10,
   "metadata": {},
   "outputs": [],
   "source": [
    "x_train = training_data.iloc[:, 0:520]\n",
    "x_test = testing_data.iloc[:, 0:520]"
   ]
  },
  {
   "cell_type": "code",
   "execution_count": 11,
   "metadata": {},
   "outputs": [
    {
     "data": {
      "text/plain": [
       "1.0"
      ]
     },
     "execution_count": 11,
     "metadata": {},
     "output_type": "execute_result"
    }
   ],
   "source": [
    "# get visual of pca\n",
    "pca = PCA(520)\n",
    "x_train_visual = pca.fit_transform(x_train)\n",
    "x_test_visual = pca.transform(x_test)\n",
    "\n",
    "variance = pca.explained_variance_ratio_\n",
    "sum(variance)"
   ]
  },
  {
   "cell_type": "code",
   "execution_count": 12,
   "metadata": {
    "scrolled": true
   },
   "outputs": [
    {
     "data": {
      "text/html": [
       "<div>\n",
       "<style scoped>\n",
       "    .dataframe tbody tr th:only-of-type {\n",
       "        vertical-align: middle;\n",
       "    }\n",
       "\n",
       "    .dataframe tbody tr th {\n",
       "        vertical-align: top;\n",
       "    }\n",
       "\n",
       "    .dataframe thead th {\n",
       "        text-align: right;\n",
       "    }\n",
       "</style>\n",
       "<table border=\"1\" class=\"dataframe\">\n",
       "  <thead>\n",
       "    <tr style=\"text-align: right;\">\n",
       "      <th></th>\n",
       "      <th>Variance (%)</th>\n",
       "      <th>Explained Variance (%)</th>\n",
       "    </tr>\n",
       "    <tr>\n",
       "      <th>Component</th>\n",
       "      <th></th>\n",
       "      <th></th>\n",
       "    </tr>\n",
       "  </thead>\n",
       "  <tbody>\n",
       "    <tr>\n",
       "      <th>0</th>\n",
       "      <td>14.657091</td>\n",
       "      <td>14.657091</td>\n",
       "    </tr>\n",
       "    <tr>\n",
       "      <th>1</th>\n",
       "      <td>5.479158</td>\n",
       "      <td>20.136249</td>\n",
       "    </tr>\n",
       "    <tr>\n",
       "      <th>2</th>\n",
       "      <td>4.952448</td>\n",
       "      <td>25.088697</td>\n",
       "    </tr>\n",
       "    <tr>\n",
       "      <th>3</th>\n",
       "      <td>4.793480</td>\n",
       "      <td>29.882177</td>\n",
       "    </tr>\n",
       "    <tr>\n",
       "      <th>4</th>\n",
       "      <td>3.916326</td>\n",
       "      <td>33.798503</td>\n",
       "    </tr>\n",
       "  </tbody>\n",
       "</table>\n",
       "</div>"
      ],
      "text/plain": [
       "           Variance (%)  Explained Variance (%)\n",
       "Component                                      \n",
       "0             14.657091               14.657091\n",
       "1              5.479158               20.136249\n",
       "2              4.952448               25.088697\n",
       "3              4.793480               29.882177\n",
       "4              3.916326               33.798503"
      ]
     },
     "execution_count": 12,
     "metadata": {},
     "output_type": "execute_result"
    }
   ],
   "source": [
    "# empty variables for storage\n",
    "total = 0\n",
    "freq_sum = []\n",
    "for i in variance:\n",
    "    # calculating the total variance after each component\n",
    "    total += i\n",
    "    freq_sum.append(total)\n",
    "\n",
    "# change values to percentages\n",
    "variance = variance * 100\n",
    "freq_sum = [x * 100 for x in freq_sum]\n",
    "df = pd.DataFrame(data={'Variance (%)': variance, 'Explained Variance (%)': freq_sum})\n",
    "df.index.rename('Component', inplace=True)\n",
    "df.round(2)\n",
    "df.head()"
   ]
  },
  {
   "cell_type": "markdown",
   "metadata": {},
   "source": [
    "##### PCA Scatter\n",
    "\n",
    "Below with only 1 component you are given a nearly 15% explained variance, however this starts to rapidly drop off with the combined explained variance of the first 5 components being only 34%. This is not surprising though, because there are a total of 520 principal components. \n",
    "\n",
    "When it comes to selected the number of components, you want to pick an amount where the total explained variance is as close to 100% but keeping in mind the purpose of PCA, which is to decrease the time it takes to train and test an algorithm whilst keeping the integrity of the data.\n",
    "\n",
    "With the below graph you will be able to pick a suitable number of components."
   ]
  },
  {
   "cell_type": "code",
   "execution_count": 13,
   "metadata": {},
   "outputs": [
    {
     "data": {
      "image/png": "[encoded data removed]",
      "text/plain": [
       "<Figure size 1080x576 with 2 Axes>"
      ]
     },
     "metadata": {
      "needs_background": "light"
     },
     "output_type": "display_data"
    }
   ],
   "source": [
    "fig, ax0 = plt.subplots(figsize=(15, 8))\n",
    "fig.suptitle('Explained Variance Ratio of every Principal Component', fontsize=18)\n",
    "\n",
    "ax0_colour = 'blue'\n",
    "ax0.plot(variance, color=ax0_colour, label='Individual')\n",
    "ax0.set_xlabel('No. of Pricipal Components', fontsize=16)\n",
    "ax0.set_ylabel('Individual Variance (%)', color=ax0_colour, fontsize=16)\n",
    "\n",
    "# both plots share the same x axis\n",
    "ax1 = ax0.twinx()\n",
    "ax1_colour = 'red'\n",
    "ax1.plot(freq_sum, color=ax1_colour, label='Total', linestyle='dashed')\n",
    "ax1.set_ylabel('Total Variance (%)', color=ax1_colour, fontsize=16, rotation=270, labelpad=10)\n",
    "ax1.set_ylim([0, 105])\n",
    "ax1.set_yticks([x for x in range(0, 110, 20)])\n",
    "\n",
    "# vertical lines\n",
    "for i in range(0, 6):\n",
    "    x = i * 100\n",
    "    ax0.axvline(x, alpha=0.4, c='gray')\n",
    "    \n",
    "    \n",
    "plt.legend(loc='best')\n",
    "# horizontal lines\n",
    "plt.grid()\n",
    "plt.show()"
   ]
  },
  {
   "cell_type": "markdown",
   "metadata": {},
   "source": [
    "##### Processing the data"
   ]
  },
  {
   "cell_type": "code",
   "execution_count": 14,
   "metadata": {},
   "outputs": [],
   "source": [
    "x_train = training_data.iloc[:, 0:520]\n",
    "y_train_reg = training_data.iloc[:, 520:522]\n",
    "y_train_class = training_data.iloc[:, 522:524]\n",
    "y_train = pd.concat([y_train_reg, y_train_class], axis=1)\n",
    "\n",
    "x_test = testing_data.iloc[:, 0:520]\n",
    "y_test_reg = testing_data.iloc[:, 520:522]\n",
    "y_test_class = testing_data.iloc[:, 522:524]\n",
    "y_test = pd.concat([y_test_reg, y_test_class], axis=1)\n",
    "\n",
    "\n",
    "x_train.replace(100, -150, inplace=True)\n",
    "x_test.replace(100, -150, inplace=True)"
   ]
  },
  {
   "cell_type": "markdown",
   "metadata": {},
   "source": [
    "##### Applying PCA\n"
   ]
  },
  {
   "cell_type": "code",
   "execution_count": 15,
   "metadata": {},
   "outputs": [],
   "source": [
    "pca = PCA(300)\n",
    "pca.fit(x_train)\n",
    "x_train_pca = pca.transform(x_train)\n",
    "x_test_pca = pca.transform(x_test)"
   ]
  },
  {
   "cell_type": "code",
   "execution_count": 16,
   "metadata": {},
   "outputs": [
    {
     "data": {
      "text/plain": [
       "(19937, 520)"
      ]
     },
     "execution_count": 16,
     "metadata": {},
     "output_type": "execute_result"
    }
   ],
   "source": [
    "x_train.shape"
   ]
  },
  {
   "cell_type": "code",
   "execution_count": 17,
   "metadata": {},
   "outputs": [
    {
     "data": {
      "text/plain": [
       "(19937, 300)"
      ]
     },
     "execution_count": 17,
     "metadata": {},
     "output_type": "execute_result"
    }
   ],
   "source": [
    "x_train_pca.shape"
   ]
  },
  {
   "cell_type": "code",
   "execution_count": 18,
   "metadata": {},
   "outputs": [
    {
     "data": {
      "text/plain": [
       "(1111, 520)"
      ]
     },
     "execution_count": 18,
     "metadata": {},
     "output_type": "execute_result"
    }
   ],
   "source": [
    "x_test.shape"
   ]
  },
  {
   "cell_type": "code",
   "execution_count": 19,
   "metadata": {},
   "outputs": [
    {
     "data": {
      "text/plain": [
       "(1111, 300)"
      ]
     },
     "execution_count": 19,
     "metadata": {},
     "output_type": "execute_result"
    }
   ],
   "source": [
    "x_test_pca.shape"
   ]
  },
  {
   "cell_type": "code",
   "execution_count": 50,
   "metadata": {},
   "outputs": [],
   "source": [
    "from sklearn.neighbors import KNeighborsClassifier, KNeighborsRegressor\n",
    "from sklearn.svm import SVC, SVR\n",
    "from sklearn.multioutput import MultiOutputClassifier, MultiOutputRegressor\n",
    "from sklearn.neural_network import MLPClassifier, MLPRegressor\n",
    "from sklearn.tree import DecisionTreeClassifier, DecisionTreeRegressor\n",
    "from sklearn.ensemble import RandomForestClassifier, RandomForestRegressor\n",
    "from sklearn.metrics import classification_report, r2_score, mean_absolute_error, mean_squared_error"
   ]
  },
  {
   "cell_type": "code",
   "execution_count": 21,
   "metadata": {},
   "outputs": [],
   "source": [
    "# K-Nearest Neighbour\n",
    "knnc = KNeighborsClassifier()\n",
    "knnr = KNeighborsRegressor()\n",
    "\n",
    "# Support Vector Machine\n",
    "svc = SVC(max_iter=1000)\n",
    "msvc = MultiOutputClassifier(svc)\n",
    "svr = SVR(max_iter=1000)\n",
    "msvr = MultiOutputRegressor(svr)\n",
    "\n",
    "# Decision Tree\n",
    "dtc = DecisionTreeClassifier()\n",
    "dtr = DecisionTreeRegressor()\n",
    "\n",
    "# Multi-layer perceptron\n",
    "mlpc = MLPClassifier()\n",
    "mmlpc = MultiOutputClassifier(mlpc)\n",
    "mlpr = MLPRegressor()\n",
    "mmlpr = MultiOutputRegressor(mlpr)"
   ]
  },
  {
   "cell_type": "code",
   "execution_count": 22,
   "metadata": {},
   "outputs": [],
   "source": [
    "def training_models(model, clf_reg):\n",
    "    if clf_reg == 0 :\n",
    "        # classification\n",
    "        model.fit(x_train_pca, y_train_class)\n",
    "        predict = model.predict(x_test_pca)\n",
    "    else:\n",
    "        # regression\n",
    "        model.fit(x_train_pca, y_train_reg)\n",
    "        predict = model.predict(x_test_pca)\n",
    "    return predict"
   ]
  },
  {
   "cell_type": "code",
   "execution_count": 23,
   "metadata": {},
   "outputs": [],
   "source": [
    "def create_prediction_frame(clf, reg):\n",
    "    dataframe_classification = pd.DataFrame(clf, columns=['FLOOR', 'BUILDINGID'])\n",
    "    dataframe_regression = pd.DataFrame(reg, columns=['LONGITUDE', 'LATITUDE'])\n",
    "    dataframe_predictions = pd.concat([dataframe_classification, dataframe_regression], axis=1)\n",
    "    return dataframe_predictions"
   ]
  },
  {
   "cell_type": "code",
   "execution_count": 24,
   "metadata": {},
   "outputs": [],
   "source": [
    "def model_predictions(knnc, knnr, msvc, msvr, dtc, dtr, mmlpc, mmlpr):\n",
    "    # Train & predict for each model\n",
    "    knnc_predict = training_models(knnc, 0)\n",
    "    knnr_predict = training_models(knnr, 1)\n",
    "    knn_predictions = create_prediction_frame(knnc_predict, knnr_predict)\n",
    "\n",
    "    svc_predict = training_models(msvc, 0)\n",
    "    svr_predict = training_models(msvr, 1)\n",
    "    svm_predictions = create_prediction_frame(svc_predict, svr_predict)\n",
    "\n",
    "    dtc_predict = training_models(dtc, 0)\n",
    "    dtr_predict = training_models(dtr, 1)\n",
    "    dt_predictions = create_prediction_frame(dtc_predict, dtr_predict)\n",
    "\n",
    "    mlpc_predict = training_models(mmlpc, 0)\n",
    "    mlpr_predict = training_models(mmlpr, 1)\n",
    "    mlp_predictions = create_prediction_frame(mlpc_predict, mlpr_predict)\n",
    "    \n",
    "    predictions = (knn_predictions, svm_predictions, dt_predictions, mlp_predictions)\n",
    "    \n",
    "    return predictions"
   ]
  },
  {
   "cell_type": "code",
   "execution_count": 25,
   "metadata": {},
   "outputs": [],
   "source": [
    "def distance_error(true, predict, opt):\n",
    "    mode = (('LONGITUDE', 'LATITUDE') if opt == 'reg' else ('BUILDINGID', 'FLOOR'))\n",
    "    x = predict[mode[0]].values\n",
    "    y = predict[mode[1]].values\n",
    "    x0 = true[mode[0]].values\n",
    "    y0 = true[mode[1]].values\n",
    "    error = np.sqrt(np.square(x-x0) + np.square(y-y0))\n",
    "    return error "
   ]
  },
  {
   "cell_type": "code",
   "execution_count": 26,
   "metadata": {},
   "outputs": [],
   "source": [
    "def missclassed(true, predict, opt):\n",
    "    error = np.sum(predict[opt].values != true[opt].values)\n",
    "    return error"
   ]
  },
  {
   "cell_type": "code",
   "execution_count": 27,
   "metadata": {},
   "outputs": [],
   "source": [
    "def clf_distance_error(true, predict, opt):\n",
    "    error = (50 if opt == 'BUILDINGID' else 4)\n",
    "    data = []\n",
    "    for n in range(len(predict)):\n",
    "        values = (predict[opt][n], true[opt][n])\n",
    "        diff = abs(values[0] - values[1])\n",
    "        error = error * diff\n",
    "        data.append(error)\n",
    "    return data"
   ]
  },
  {
   "cell_type": "code",
   "execution_count": 28,
   "metadata": {},
   "outputs": [],
   "source": [
    "def compute_all_errors(true, predict, wrong_build=50, wrong_floor=4):\n",
    "    bld_missclassed = missclassed(true, predict, 'BUILDINGID')\n",
    "    flr_missclassed = missclassed(true, predict, 'FLOOR')\n",
    "    regression_error = distance_error(true, predict, 'reg')\n",
    "    classification_error = distance_error(true, predict, 'clf')\n",
    "    building_error = clf_distance_error(true, predict, 'BUILDINGID')\n",
    "    floor_error = clf_distance_error(true, predict, 'FLOOR')\n",
    "    building_floor_error = [a + b for a, b in zip(building_error, floor_error)]\n",
    "    \n",
    "    data = {\n",
    "        'Buildings miss': bld_missclassed,\n",
    "        'Floors miss': flr_missclassed,\n",
    "        'Regression error': regression_error,\n",
    "        'Classification error': classification_error,\n",
    "        'building': building_error,\n",
    "        'floor': floor_error,\n",
    "        'Total class error': building_floor_error\n",
    "    }\n",
    "    frame = pd.DataFrame(data)\n",
    "    return frame"
   ]
  },
  {
   "cell_type": "code",
   "execution_count": 29,
   "metadata": {},
   "outputs": [],
   "source": [
    "def cdf_plot(errors, mode):\n",
    "    colours = ['blue', 'red', 'green', 'purple']\n",
    "    fig, axs = plt.subplots(2, 2, constrained_layout=True, figsize=(13, 7))\n",
    "    fig.suptitle(f'{mode} CDF Plot', fontsize=20)\n",
    "    fig.text(0.5, -0.05, 'Distance Error (m)', ha='center', fontsize=18)\n",
    "    fig.text(-0.05, 0.5, 'Probability (%)', va='center', rotation='vertical', fontsize=18)\n",
    "    \n",
    "    for graph in range(2):\n",
    "        for n in range(2):\n",
    "            if graph == 0:\n",
    "                c = n\n",
    "            else:\n",
    "                c = n + 2\n",
    "            count, bins_count = np.histogram(errors[c][0][mode], bins=100)\n",
    "            pdf = count / sum(count)\n",
    "            cdf = np.cumsum(pdf)\n",
    "            axs[graph][n].plot(bins_count[1:], cdf, color=colours[c], label=errors[c][1])\n",
    "            axs[graph][n].grid()\n",
    "            axs[graph][n].legend()"
   ]
  },
  {
   "cell_type": "code",
   "execution_count": 30,
   "metadata": {},
   "outputs": [],
   "source": [
    "def missclassed_classification(errors):\n",
    "    fig, axs = plt.subplots(1, 2, constrained_layout=True, figsize=(13, 5))\n",
    "    # data\n",
    "    titles = ['Number of Buildings missclassified', 'Number of Floors missclassified']\n",
    "    x = [_ for _ in range(len(errors))]\n",
    "    b_heights = [errors[_][0]['Buildings miss'][0] for _ in range(len(errors))]\n",
    "    f_heights = [errors[_][0]['Floors miss'][0] for _ in range(len(errors))]\n",
    "    labels = [errors[_][1] for _ in range(len(errors))]\n",
    "    colours = ['blue', 'red', 'green', 'purple']\n",
    "    width = 0.5\n",
    "    \n",
    "    # graphs\n",
    "    for n in range(2):\n",
    "        if n == 0:\n",
    "            heights = b_heights\n",
    "        else:\n",
    "            heights = f_heights\n",
    "        for _ in range(len(errors)):\n",
    "            axs[n].bar(x[_], heights[_], width=width, label=labels[_], color=colours[_])\n",
    "        axs[n].set_xticks(x)\n",
    "        axs[n].set_xticklabels(labels)\n",
    "        axs[n].set_title(titles[n], fontsize=14)\n",
    "        axs[n].legend()\n",
    "        axs[n].grid()\n"
   ]
  },
  {
   "cell_type": "code",
   "execution_count": 31,
   "metadata": {},
   "outputs": [],
   "source": [
    "def model_errors(knn, svm, dt, mlp):\n",
    "    knn_errors = compute_all_errors(y_test, knn)\n",
    "    svm_errors = compute_all_errors(y_test, svm)\n",
    "    dt_errors = compute_all_errors(y_test, dt)\n",
    "    mlp_errors = compute_all_errors(y_test, mlp)\n",
    "    errors = ((knn_errors, 'knn'), (svm_errors, 'svm'), (dt_errors, 'dt'), (mlp_errors, 'mlp'))\n",
    "    return errors"
   ]
  },
  {
   "cell_type": "code",
   "execution_count": 32,
   "metadata": {
    "scrolled": true
   },
   "outputs": [
    {
     "name": "stderr",
     "output_type": "stream",
     "text": [
      "/Library/Frameworks/Python.framework/Versions/3.7/lib/python3.7/site-packages/sklearn/svm/_base.py:289: ConvergenceWarning: Solver terminated early (max_iter=1000).  Consider pre-processing your data with StandardScaler or MinMaxScaler.\n",
      "  ConvergenceWarning,\n",
      "/Library/Frameworks/Python.framework/Versions/3.7/lib/python3.7/site-packages/sklearn/svm/_base.py:289: ConvergenceWarning: Solver terminated early (max_iter=1000).  Consider pre-processing your data with StandardScaler or MinMaxScaler.\n",
      "  ConvergenceWarning,\n",
      "/Library/Frameworks/Python.framework/Versions/3.7/lib/python3.7/site-packages/sklearn/svm/_base.py:289: ConvergenceWarning: Solver terminated early (max_iter=1000).  Consider pre-processing your data with StandardScaler or MinMaxScaler.\n",
      "  ConvergenceWarning,\n",
      "/Library/Frameworks/Python.framework/Versions/3.7/lib/python3.7/site-packages/sklearn/neural_network/_multilayer_perceptron.py:696: ConvergenceWarning: Stochastic Optimizer: Maximum iterations (200) reached and the optimization hasn't converged yet.\n",
      "  ConvergenceWarning,\n",
      "/Library/Frameworks/Python.framework/Versions/3.7/lib/python3.7/site-packages/sklearn/neural_network/_multilayer_perceptron.py:696: ConvergenceWarning: Stochastic Optimizer: Maximum iterations (200) reached and the optimization hasn't converged yet.\n",
      "  ConvergenceWarning,\n"
     ]
    }
   ],
   "source": [
    "knn_predictions, svm_predictions, dt_predictions, mlp_predictions = model_predictions(knnc, knnr, msvc, msvr, dtc, dtr, mmlpc, mmlpr)\n",
    "paramless_models = model_errors(knn_predictions, svm_predictions, dt_predictions, mlp_predictions)"
   ]
  },
  {
   "cell_type": "code",
   "execution_count": 33,
   "metadata": {},
   "outputs": [
    {
     "data": {
      "text/plain": [
       "((      Buildings miss  Floors miss  Regression error  Classification error  \\\n",
       "  0                  6          189         44.361733                   2.0   \n",
       "  1                  6          189          1.991149                   0.0   \n",
       "  2                  6          189          4.461367                   0.0   \n",
       "  3                  6          189          3.995626                   0.0   \n",
       "  4                  6          189          3.258913                   0.0   \n",
       "  ...              ...          ...               ...                   ...   \n",
       "  1106               6          189          5.089645                   0.0   \n",
       "  1107               6          189         53.392661                   0.0   \n",
       "  1108               6          189          6.203069                   0.0   \n",
       "  1109               6          189         15.199455                   0.0   \n",
       "  1110               6          189         11.002091                   0.0   \n",
       "  \n",
       "        building  floor  Total class error  \n",
       "  0            0      8                  8  \n",
       "  1            0      0                  0  \n",
       "  2            0      0                  0  \n",
       "  3            0      0                  0  \n",
       "  4            0      0                  0  \n",
       "  ...        ...    ...                ...  \n",
       "  1106         0      0                  0  \n",
       "  1107         0      0                  0  \n",
       "  1108         0      0                  0  \n",
       "  1109         0      0                  0  \n",
       "  1110         0      0                  0  \n",
       "  \n",
       "  [1111 rows x 7 columns],\n",
       "  'knn'),\n",
       " (      Buildings miss  Floors miss  Regression error  Classification error  \\\n",
       "  0                  2          115         18.722551                   2.0   \n",
       "  1                  2          115         76.399888                   0.0   \n",
       "  2                  2          115         91.899158                   0.0   \n",
       "  3                  2          115         94.091261                   0.0   \n",
       "  4                  2          115         79.594489                   0.0   \n",
       "  ...              ...          ...               ...                   ...   \n",
       "  1106               2          115        125.316690                   0.0   \n",
       "  1107               2          115        152.927355                   0.0   \n",
       "  1108               2          115         94.349374                   0.0   \n",
       "  1109               2          115         75.005583                   0.0   \n",
       "  1110               2          115         77.827381                   0.0   \n",
       "  \n",
       "        building  floor  Total class error  \n",
       "  0            0      8                  8  \n",
       "  1            0      0                  0  \n",
       "  2            0      0                  0  \n",
       "  3            0      0                  0  \n",
       "  4            0      0                  0  \n",
       "  ...        ...    ...                ...  \n",
       "  1106         0      0                  0  \n",
       "  1107         0      0                  0  \n",
       "  1108         0      0                  0  \n",
       "  1109         0      0                  0  \n",
       "  1110         0      0                  0  \n",
       "  \n",
       "  [1111 rows x 7 columns],\n",
       "  'svm'),\n",
       " (      Buildings miss  Floors miss  Regression error  Classification error  \\\n",
       "  0                  6          211         11.124773                   2.0   \n",
       "  1                  6          211         11.074504                   2.0   \n",
       "  2                  6          211         13.764567                   0.0   \n",
       "  3                  6          211         66.671478                   0.0   \n",
       "  4                  6          211          8.075994                   0.0   \n",
       "  ...              ...          ...               ...                   ...   \n",
       "  1106               6          211          0.505223                   0.0   \n",
       "  1107               6          211          0.029959                   0.0   \n",
       "  1108               6          211          4.021224                   0.0   \n",
       "  1109               6          211          6.660306                   0.0   \n",
       "  1110               6          211          4.323233                   0.0   \n",
       "  \n",
       "        building  floor  Total class error  \n",
       "  0            0      8                  8  \n",
       "  1            0     16                 16  \n",
       "  2            0      0                  0  \n",
       "  3            0      0                  0  \n",
       "  4            0      0                  0  \n",
       "  ...        ...    ...                ...  \n",
       "  1106         0      0                  0  \n",
       "  1107         0      0                  0  \n",
       "  1108         0      0                  0  \n",
       "  1109         0      0                  0  \n",
       "  1110         0      0                  0  \n",
       "  \n",
       "  [1111 rows x 7 columns],\n",
       "  'dt'),\n",
       " (      Buildings miss  Floors miss  Regression error  Classification error  \\\n",
       "  0                 28          143      2.823562e+06              1.414214   \n",
       "  1                 28          143      2.643282e+06              0.000000   \n",
       "  2                 28          143      2.261200e+06              1.000000   \n",
       "  3                 28          143      2.064515e+06              0.000000   \n",
       "  4                 28          143      1.655805e+06              0.000000   \n",
       "  ...              ...          ...               ...                   ...   \n",
       "  1106              28          143      2.517155e+06              0.000000   \n",
       "  1107              28          143      2.646570e+06              0.000000   \n",
       "  1108              28          143      2.291348e+06              0.000000   \n",
       "  1109              28          143      2.054372e+06              0.000000   \n",
       "  1110              28          143      1.896526e+06              0.000000   \n",
       "  \n",
       "        building  floor  Total class error  \n",
       "  0           50      4                 54  \n",
       "  1            0      0                  0  \n",
       "  2            0      0                  0  \n",
       "  3            0      0                  0  \n",
       "  4            0      0                  0  \n",
       "  ...        ...    ...                ...  \n",
       "  1106         0      0                  0  \n",
       "  1107         0      0                  0  \n",
       "  1108         0      0                  0  \n",
       "  1109         0      0                  0  \n",
       "  1110         0      0                  0  \n",
       "  \n",
       "  [1111 rows x 7 columns],\n",
       "  'mlp'))"
      ]
     },
     "execution_count": 33,
     "metadata": {},
     "output_type": "execute_result"
    }
   ],
   "source": [
    "paramless_models"
   ]
  },
  {
   "cell_type": "code",
   "execution_count": 34,
   "metadata": {
    "scrolled": true
   },
   "outputs": [
    {
     "data": {
      "image/png": "[encoded data removed]",
      "text/plain": [
       "<Figure size 936x504 with 4 Axes>"
      ]
     },
     "metadata": {
      "needs_background": "light"
     },
     "output_type": "display_data"
    }
   ],
   "source": [
    "cdf_plot(paramless_models, 'Regression error')"
   ]
  },
  {
   "cell_type": "code",
   "execution_count": 37,
   "metadata": {
    "scrolled": false
   },
   "outputs": [
    {
     "data": {
      "image/png": "[encoded data removed]",
      "text/plain": [
       "<Figure size 936x360 with 2 Axes>"
      ]
     },
     "metadata": {
      "needs_background": "light"
     },
     "output_type": "display_data"
    }
   ],
   "source": [
    "missclassed_classification(paramless_models)"
   ]
  },
  {
   "cell_type": "code",
   "execution_count": 38,
   "metadata": {},
   "outputs": [],
   "source": [
    "def reg_results(true, predictions, name):\n",
    "    predict = (predictions['LONGITUDE'], predictions['LATITUDE'])\n",
    "    truth = (true['LONGITUDE'], true['LATITUDE'])\n",
    "    \n",
    "    r2 = r2_score(truth, predict)\n",
    "    mae = mean_absolute_error(truth, predict)\n",
    "    mse = mean_squared_error(truth, predict)\n",
    "    \n",
    "    data = {\n",
    "        'R2 score': r2,\n",
    "        'Mean Absolute Error': mae,\n",
    "        'Mean Sqaured Error': mse\n",
    "    }\n",
    "    \n",
    "    results = pd.DataFrame(data, index=[name])\n",
    "    \n",
    "    return results"
   ]
  },
  {
   "cell_type": "code",
   "execution_count": 39,
   "metadata": {},
   "outputs": [],
   "source": [
    "def clf_results(true, predictions, name):\n",
    "    predict = (predictions['BUILDINGID'], predictions['FLOOR'])\n",
    "    truth = (true['BUILDINGID'], true['FLOOR'])\n",
    "    \n",
    "    bld_cr = classification_report(truth[0], predict[0])\n",
    "    flr_cr = classification_report(truth[1], predict[1])\n",
    "    \n",
    "    return bld_cr, flr_cr"
   ]
  },
  {
   "cell_type": "code",
   "execution_count": 51,
   "metadata": {},
   "outputs": [
    {
     "data": {
      "text/html": [
       "<div>\n",
       "<style scoped>\n",
       "    .dataframe tbody tr th:only-of-type {\n",
       "        vertical-align: middle;\n",
       "    }\n",
       "\n",
       "    .dataframe tbody tr th {\n",
       "        vertical-align: top;\n",
       "    }\n",
       "\n",
       "    .dataframe thead th {\n",
       "        text-align: right;\n",
       "    }\n",
       "</style>\n",
       "<table border=\"1\" class=\"dataframe\">\n",
       "  <thead>\n",
       "    <tr style=\"text-align: right;\">\n",
       "      <th></th>\n",
       "      <th>R2 score</th>\n",
       "      <th>Mean Absolute Error</th>\n",
       "      <th>Mean Sqaured Error</th>\n",
       "    </tr>\n",
       "  </thead>\n",
       "  <tbody>\n",
       "    <tr>\n",
       "      <th>knn</th>\n",
       "      <td>1.0</td>\n",
       "      <td>7.192582</td>\n",
       "      <td>192.297549</td>\n",
       "    </tr>\n",
       "  </tbody>\n",
       "</table>\n",
       "</div>"
      ],
      "text/plain": [
       "     R2 score  Mean Absolute Error  Mean Sqaured Error\n",
       "knn       1.0             7.192582          192.297549"
      ]
     },
     "execution_count": 51,
     "metadata": {},
     "output_type": "execute_result"
    }
   ],
   "source": [
    "reg_results(y_test, knn_predictions, 'knn')"
   ]
  },
  {
   "cell_type": "code",
   "execution_count": 52,
   "metadata": {},
   "outputs": [
    {
     "data": {
      "text/html": [
       "<div>\n",
       "<style scoped>\n",
       "    .dataframe tbody tr th:only-of-type {\n",
       "        vertical-align: middle;\n",
       "    }\n",
       "\n",
       "    .dataframe tbody tr th {\n",
       "        vertical-align: top;\n",
       "    }\n",
       "\n",
       "    .dataframe thead th {\n",
       "        text-align: right;\n",
       "    }\n",
       "</style>\n",
       "<table border=\"1\" class=\"dataframe\">\n",
       "  <thead>\n",
       "    <tr style=\"text-align: right;\">\n",
       "      <th></th>\n",
       "      <th>R2 score</th>\n",
       "      <th>Mean Absolute Error</th>\n",
       "      <th>Mean Sqaured Error</th>\n",
       "    </tr>\n",
       "  </thead>\n",
       "  <tbody>\n",
       "    <tr>\n",
       "      <th>svm</th>\n",
       "      <td>1.0</td>\n",
       "      <td>46.069279</td>\n",
       "      <td>3146.10827</td>\n",
       "    </tr>\n",
       "  </tbody>\n",
       "</table>\n",
       "</div>"
      ],
      "text/plain": [
       "     R2 score  Mean Absolute Error  Mean Sqaured Error\n",
       "svm       1.0            46.069279          3146.10827"
      ]
     },
     "execution_count": 52,
     "metadata": {},
     "output_type": "execute_result"
    }
   ],
   "source": [
    "reg_results(y_test, svm_predictions, 'svm')"
   ]
  },
  {
   "cell_type": "code",
   "execution_count": 53,
   "metadata": {},
   "outputs": [
    {
     "data": {
      "text/html": [
       "<div>\n",
       "<style scoped>\n",
       "    .dataframe tbody tr th:only-of-type {\n",
       "        vertical-align: middle;\n",
       "    }\n",
       "\n",
       "    .dataframe tbody tr th {\n",
       "        vertical-align: top;\n",
       "    }\n",
       "\n",
       "    .dataframe thead th {\n",
       "        text-align: right;\n",
       "    }\n",
       "</style>\n",
       "<table border=\"1\" class=\"dataframe\">\n",
       "  <thead>\n",
       "    <tr style=\"text-align: right;\">\n",
       "      <th></th>\n",
       "      <th>R2 score</th>\n",
       "      <th>Mean Absolute Error</th>\n",
       "      <th>Mean Sqaured Error</th>\n",
       "    </tr>\n",
       "  </thead>\n",
       "  <tbody>\n",
       "    <tr>\n",
       "      <th>dt</th>\n",
       "      <td>1.0</td>\n",
       "      <td>8.904061</td>\n",
       "      <td>266.807949</td>\n",
       "    </tr>\n",
       "  </tbody>\n",
       "</table>\n",
       "</div>"
      ],
      "text/plain": [
       "    R2 score  Mean Absolute Error  Mean Sqaured Error\n",
       "dt       1.0             8.904061          266.807949"
      ]
     },
     "execution_count": 53,
     "metadata": {},
     "output_type": "execute_result"
    }
   ],
   "source": [
    "reg_results(y_test, dt_predictions, 'dt')"
   ]
  },
  {
   "cell_type": "code",
   "execution_count": 54,
   "metadata": {},
   "outputs": [
    {
     "data": {
      "text/html": [
       "<div>\n",
       "<style scoped>\n",
       "    .dataframe tbody tr th:only-of-type {\n",
       "        vertical-align: middle;\n",
       "    }\n",
       "\n",
       "    .dataframe tbody tr th {\n",
       "        vertical-align: top;\n",
       "    }\n",
       "\n",
       "    .dataframe thead th {\n",
       "        text-align: right;\n",
       "    }\n",
       "</style>\n",
       "<table border=\"1\" class=\"dataframe\">\n",
       "  <thead>\n",
       "    <tr style=\"text-align: right;\">\n",
       "      <th></th>\n",
       "      <th>R2 score</th>\n",
       "      <th>Mean Absolute Error</th>\n",
       "      <th>Mean Sqaured Error</th>\n",
       "    </tr>\n",
       "  </thead>\n",
       "  <tbody>\n",
       "    <tr>\n",
       "      <th>mlp</th>\n",
       "      <td>0.799102</td>\n",
       "      <td>710352.967591</td>\n",
       "      <td>1.192347e+12</td>\n",
       "    </tr>\n",
       "  </tbody>\n",
       "</table>\n",
       "</div>"
      ],
      "text/plain": [
       "     R2 score  Mean Absolute Error  Mean Sqaured Error\n",
       "mlp  0.799102        710352.967591        1.192347e+12"
      ]
     },
     "execution_count": 54,
     "metadata": {},
     "output_type": "execute_result"
    }
   ],
   "source": [
    "reg_results(y_test, mlp_predictions, 'mlp')"
   ]
  },
  {
   "cell_type": "code",
   "execution_count": 55,
   "metadata": {},
   "outputs": [
    {
     "name": "stdout",
     "output_type": "stream",
     "text": [
      "              precision    recall  f1-score   support\n",
      "\n",
      "           0       1.00      1.00      1.00       536\n",
      "           1       0.99      0.99      0.99       307\n",
      "           2       0.99      0.99      0.99       268\n",
      "\n",
      "    accuracy                           0.99      1111\n",
      "   macro avg       0.99      0.99      0.99      1111\n",
      "weighted avg       0.99      0.99      0.99      1111\n",
      "\n"
     ]
    }
   ],
   "source": [
    "k = clf_results(y_test, knn_predictions, 'knn')\n",
    "print(k[0]) # Building"
   ]
  },
  {
   "cell_type": "code",
   "execution_count": 56,
   "metadata": {
    "scrolled": false
   },
   "outputs": [
    {
     "name": "stdout",
     "output_type": "stream",
     "text": [
      "              precision    recall  f1-score   support\n",
      "\n",
      "           0       0.76      0.91      0.83       132\n",
      "           1       0.96      0.81      0.88       462\n",
      "           2       0.78      0.77      0.77       306\n",
      "           3       0.71      0.96      0.82       172\n",
      "           4       0.96      0.69      0.81        39\n",
      "\n",
      "    accuracy                           0.83      1111\n",
      "   macro avg       0.83      0.83      0.82      1111\n",
      "weighted avg       0.85      0.83      0.83      1111\n",
      "\n"
     ]
    }
   ],
   "source": [
    "print(k[1]) # Floor"
   ]
  },
  {
   "cell_type": "code",
   "execution_count": 57,
   "metadata": {
    "scrolled": false
   },
   "outputs": [
    {
     "name": "stdout",
     "output_type": "stream",
     "text": [
      "              precision    recall  f1-score   support\n",
      "\n",
      "           0       1.00      1.00      1.00       536\n",
      "           1       0.99      1.00      1.00       307\n",
      "           2       1.00      1.00      1.00       268\n",
      "\n",
      "    accuracy                           1.00      1111\n",
      "   macro avg       1.00      1.00      1.00      1111\n",
      "weighted avg       1.00      1.00      1.00      1111\n",
      "\n"
     ]
    }
   ],
   "source": [
    "s = clf_results(y_test, svm_predictions, 'svm')\n",
    "print(s[0]) # Building"
   ]
  },
  {
   "cell_type": "code",
   "execution_count": 58,
   "metadata": {
    "scrolled": false
   },
   "outputs": [
    {
     "name": "stdout",
     "output_type": "stream",
     "text": [
      "              precision    recall  f1-score   support\n",
      "\n",
      "           0       0.90      0.89      0.90       132\n",
      "           1       0.96      0.88      0.92       462\n",
      "           2       0.84      0.92      0.88       306\n",
      "           3       0.87      0.94      0.90       172\n",
      "           4       0.88      0.74      0.81        39\n",
      "\n",
      "    accuracy                           0.90      1111\n",
      "   macro avg       0.89      0.88      0.88      1111\n",
      "weighted avg       0.90      0.90      0.90      1111\n",
      "\n"
     ]
    }
   ],
   "source": [
    "print(s[1]) # Floor"
   ]
  },
  {
   "cell_type": "code",
   "execution_count": 59,
   "metadata": {
    "scrolled": false
   },
   "outputs": [
    {
     "name": "stdout",
     "output_type": "stream",
     "text": [
      "              precision    recall  f1-score   support\n",
      "\n",
      "           0       1.00      0.99      1.00       536\n",
      "           1       0.99      0.99      0.99       307\n",
      "           2       0.99      1.00      1.00       268\n",
      "\n",
      "    accuracy                           0.99      1111\n",
      "   macro avg       0.99      1.00      0.99      1111\n",
      "weighted avg       0.99      0.99      0.99      1111\n",
      "\n"
     ]
    }
   ],
   "source": [
    "d = clf_results(y_test, dt_predictions, 'dt')\n",
    "print(d[0]) # Building"
   ]
  },
  {
   "cell_type": "code",
   "execution_count": 60,
   "metadata": {
    "scrolled": false
   },
   "outputs": [
    {
     "name": "stdout",
     "output_type": "stream",
     "text": [
      "              precision    recall  f1-score   support\n",
      "\n",
      "           0       0.78      0.80      0.79       132\n",
      "           1       0.91      0.82      0.86       462\n",
      "           2       0.75      0.82      0.79       306\n",
      "           3       0.72      0.87      0.78       172\n",
      "           4       0.89      0.44      0.59        39\n",
      "\n",
      "    accuracy                           0.81      1111\n",
      "   macro avg       0.81      0.75      0.76      1111\n",
      "weighted avg       0.82      0.81      0.81      1111\n",
      "\n"
     ]
    }
   ],
   "source": [
    "print(d[1]) # Floor"
   ]
  },
  {
   "cell_type": "code",
   "execution_count": 61,
   "metadata": {
    "scrolled": true
   },
   "outputs": [
    {
     "name": "stdout",
     "output_type": "stream",
     "text": [
      "              precision    recall  f1-score   support\n",
      "\n",
      "           0       1.00      0.99      0.99       536\n",
      "           1       0.99      0.93      0.96       307\n",
      "           2       0.91      1.00      0.95       268\n",
      "\n",
      "    accuracy                           0.97      1111\n",
      "   macro avg       0.97      0.97      0.97      1111\n",
      "weighted avg       0.98      0.97      0.97      1111\n",
      "\n"
     ]
    }
   ],
   "source": [
    "m = clf_results(y_test, mlp_predictions, 'mlp')\n",
    "print(m[0]) # Building"
   ]
  },
  {
   "cell_type": "code",
   "execution_count": 62,
   "metadata": {
    "scrolled": false
   },
   "outputs": [
    {
     "name": "stdout",
     "output_type": "stream",
     "text": [
      "              precision    recall  f1-score   support\n",
      "\n",
      "           0       0.86      0.82      0.84       132\n",
      "           1       0.93      0.88      0.90       462\n",
      "           2       0.82      0.90      0.85       306\n",
      "           3       0.84      0.90      0.87       172\n",
      "           4       0.89      0.64      0.75        39\n",
      "\n",
      "    accuracy                           0.87      1111\n",
      "   macro avg       0.87      0.83      0.84      1111\n",
      "weighted avg       0.87      0.87      0.87      1111\n",
      "\n"
     ]
    }
   ],
   "source": [
    "print(m[1]) # Floor"
   ]
  },
  {
   "cell_type": "markdown",
   "metadata": {},
   "source": [
    "### Finding the best hyperparameters"
   ]
  },
  {
   "cell_type": "code",
   "execution_count": 63,
   "metadata": {},
   "outputs": [],
   "source": [
    "# K-Nearest Neighbour\n",
    "sknnc = KNeighborsClassifier(n_neighbors=3)\n",
    "sknnr = KNeighborsRegressor(n_neighbors=3)\n",
    "\n",
    "# Support Vector Machine\n",
    "svc = SVC(C=100, max_iter=1000)\n",
    "smsvc = MultiOutputClassifier(svc)\n",
    "svr = SVR(C=30, max_iter=1000)\n",
    "smsvr = MultiOutputRegressor(svr)\n",
    "\n",
    "# Decision Tree\n",
    "sdtc = DecisionTreeClassifier(max_depth=15)\n",
    "sdtr = DecisionTreeRegressor(max_depth=35)\n",
    "\n",
    "# Multi-layer perceptron\n",
    "mlpc = MLPClassifier(hidden_layer_sizes=(32, 32, 32, 32, 16))\n",
    "smmlpc = MultiOutputClassifier(mlpc)\n",
    "mlpr = MLPRegressor(hidden_layer_sizes=(32, 32, 32, 100))\n",
    "smmlpr = MultiOutputRegressor(mlpr)"
   ]
  },
  {
   "cell_type": "code",
   "execution_count": 64,
   "metadata": {
    "scrolled": false
   },
   "outputs": [
    {
     "name": "stderr",
     "output_type": "stream",
     "text": [
      "/Library/Frameworks/Python.framework/Versions/3.7/lib/python3.7/site-packages/sklearn/svm/_base.py:289: ConvergenceWarning: Solver terminated early (max_iter=1000).  Consider pre-processing your data with StandardScaler or MinMaxScaler.\n",
      "  ConvergenceWarning,\n",
      "/Library/Frameworks/Python.framework/Versions/3.7/lib/python3.7/site-packages/sklearn/svm/_base.py:289: ConvergenceWarning: Solver terminated early (max_iter=1000).  Consider pre-processing your data with StandardScaler or MinMaxScaler.\n",
      "  ConvergenceWarning,\n",
      "/Library/Frameworks/Python.framework/Versions/3.7/lib/python3.7/site-packages/sklearn/svm/_base.py:289: ConvergenceWarning: Solver terminated early (max_iter=1000).  Consider pre-processing your data with StandardScaler or MinMaxScaler.\n",
      "  ConvergenceWarning,\n",
      "/Library/Frameworks/Python.framework/Versions/3.7/lib/python3.7/site-packages/sklearn/neural_network/_multilayer_perceptron.py:696: ConvergenceWarning: Stochastic Optimizer: Maximum iterations (200) reached and the optimization hasn't converged yet.\n",
      "  ConvergenceWarning,\n",
      "/Library/Frameworks/Python.framework/Versions/3.7/lib/python3.7/site-packages/sklearn/neural_network/_multilayer_perceptron.py:696: ConvergenceWarning: Stochastic Optimizer: Maximum iterations (200) reached and the optimization hasn't converged yet.\n",
      "  ConvergenceWarning,\n"
     ]
    }
   ],
   "source": [
    "knn_predictions, svm_predictions, dt_predictions, mlp_predictions = model_predictions(sknnc, sknnr, smsvc, smsvr, sdtc, sdtr, smmlpc, smmlpr)\n",
    "parameter_models = model_errors(knn_predictions, svm_predictions, dt_predictions, mlp_predictions)"
   ]
  },
  {
   "cell_type": "code",
   "execution_count": 65,
   "metadata": {},
   "outputs": [
    {
     "data": {
      "text/plain": [
       "((      Buildings miss  Floors miss  Regression error  Classification error  \\\n",
       "  0                  7          189      6.093610e+01              1.414214   \n",
       "  1                  7          189      1.833935e+00              0.000000   \n",
       "  2                  7          189      4.461367e+00              0.000000   \n",
       "  3                  7          189      2.306398e+00              0.000000   \n",
       "  4                  7          189      4.616851e+00              0.000000   \n",
       "  ...              ...          ...               ...                   ...   \n",
       "  1106               7          189      5.007216e+00              0.000000   \n",
       "  1107               7          189      5.587935e-09              0.000000   \n",
       "  1108               7          189      5.566695e+00              0.000000   \n",
       "  1109               7          189      1.017847e+01              0.000000   \n",
       "  1110               7          189      1.101603e+01              0.000000   \n",
       "  \n",
       "        building  floor  Total class error  \n",
       "  0           50      4                 54  \n",
       "  1            0      0                  0  \n",
       "  2            0      0                  0  \n",
       "  3            0      0                  0  \n",
       "  4            0      0                  0  \n",
       "  ...        ...    ...                ...  \n",
       "  1106         0      0                  0  \n",
       "  1107         0      0                  0  \n",
       "  1108         0      0                  0  \n",
       "  1109         0      0                  0  \n",
       "  1110         0      0                  0  \n",
       "  \n",
       "  [1111 rows x 7 columns],\n",
       "  'knn'),\n",
       " (      Buildings miss  Floors miss  Regression error  Classification error  \\\n",
       "  0                  2          123         45.049200                   1.0   \n",
       "  1                  2          123         11.074516                   0.0   \n",
       "  2                  2          123         22.696163                   0.0   \n",
       "  3                  2          123         22.469677                   0.0   \n",
       "  4                  2          123         10.576336                   0.0   \n",
       "  ...              ...          ...               ...                   ...   \n",
       "  1106               2          123         47.097910                   0.0   \n",
       "  1107               2          123         64.205559                   0.0   \n",
       "  1108               2          123         20.167386                   0.0   \n",
       "  1109               2          123         22.528220                   0.0   \n",
       "  1110               2          123         15.209776                   0.0   \n",
       "  \n",
       "        building  floor  Total class error  \n",
       "  0            0      4                  4  \n",
       "  1            0      0                  0  \n",
       "  2            0      0                  0  \n",
       "  3            0      0                  0  \n",
       "  4            0      0                  0  \n",
       "  ...        ...    ...                ...  \n",
       "  1106         0      0                  0  \n",
       "  1107         0      0                  0  \n",
       "  1108         0      0                  0  \n",
       "  1109         0      0                  0  \n",
       "  1110         0      0                  0  \n",
       "  \n",
       "  [1111 rows x 7 columns],\n",
       "  'svm'),\n",
       " (      Buildings miss  Floors miss  Regression error  Classification error  \\\n",
       "  0                 14          209         11.124773                   2.0   \n",
       "  1                 14          209         11.074504                   1.0   \n",
       "  2                 14          209          6.080755                   0.0   \n",
       "  3                 14          209         66.933363                   0.0   \n",
       "  4                 14          209         11.041120                   0.0   \n",
       "  ...              ...          ...               ...                   ...   \n",
       "  1106              14          209          0.505223                   0.0   \n",
       "  1107              14          209          0.029959                   0.0   \n",
       "  1108              14          209          4.021224                   0.0   \n",
       "  1109              14          209          5.516352                   0.0   \n",
       "  1110              14          209          0.413008                   0.0   \n",
       "  \n",
       "        building  floor  Total class error  \n",
       "  0            0      8                  8  \n",
       "  1            0      8                  8  \n",
       "  2            0      0                  0  \n",
       "  3            0      0                  0  \n",
       "  4            0      0                  0  \n",
       "  ...        ...    ...                ...  \n",
       "  1106         0      0                  0  \n",
       "  1107         0      0                  0  \n",
       "  1108         0      0                  0  \n",
       "  1109         0      0                  0  \n",
       "  1110         0      0                  0  \n",
       "  \n",
       "  [1111 rows x 7 columns],\n",
       "  'dt'),\n",
       " (      Buildings miss  Floors miss  Regression error  Classification error  \\\n",
       "  0                  9          141      36850.573282              1.414214   \n",
       "  1                  9          141     120204.730777              0.000000   \n",
       "  2                  9          141      19160.450993              0.000000   \n",
       "  3                  9          141     101732.796089              0.000000   \n",
       "  4                  9          141       5862.809391              0.000000   \n",
       "  ...              ...          ...               ...                   ...   \n",
       "  1106               9          141     353957.269469              0.000000   \n",
       "  1107               9          141     109304.379903              0.000000   \n",
       "  1108               9          141     204999.753706              0.000000   \n",
       "  1109               9          141     540654.748603              0.000000   \n",
       "  1110               9          141     115770.928380              0.000000   \n",
       "  \n",
       "        building  floor  Total class error  \n",
       "  0           50      4                 54  \n",
       "  1            0      0                  0  \n",
       "  2            0      0                  0  \n",
       "  3            0      0                  0  \n",
       "  4            0      0                  0  \n",
       "  ...        ...    ...                ...  \n",
       "  1106         0      0                  0  \n",
       "  1107         0      0                  0  \n",
       "  1108         0      0                  0  \n",
       "  1109         0      0                  0  \n",
       "  1110         0      0                  0  \n",
       "  \n",
       "  [1111 rows x 7 columns],\n",
       "  'mlp'))"
      ]
     },
     "execution_count": 65,
     "metadata": {},
     "output_type": "execute_result"
    }
   ],
   "source": [
    "parameter_models"
   ]
  },
  {
   "cell_type": "code",
   "execution_count": 66,
   "metadata": {
    "scrolled": false
   },
   "outputs": [
    {
     "data": {
      "image/png": "[encoded data removed]",
      "text/plain": [
       "<Figure size 936x504 with 4 Axes>"
      ]
     },
     "metadata": {
      "needs_background": "light"
     },
     "output_type": "display_data"
    }
   ],
   "source": [
    "cdf_plot(parameter_models, 'Regression error')"
   ]
  },
  {
   "cell_type": "code",
   "execution_count": 67,
   "metadata": {
    "scrolled": false
   },
   "outputs": [
    {
     "data": {
      "image/png": "[encoded data removed]",
      "text/plain": [
       "<Figure size 936x360 with 2 Axes>"
      ]
     },
     "metadata": {
      "needs_background": "light"
     },
     "output_type": "display_data"
    }
   ],
   "source": [
    "missclassed_classification(parameter_models)"
   ]
  },
  {
   "cell_type": "code",
   "execution_count": 68,
   "metadata": {},
   "outputs": [
    {
     "data": {
      "text/html": [
       "<div>\n",
       "<style scoped>\n",
       "    .dataframe tbody tr th:only-of-type {\n",
       "        vertical-align: middle;\n",
       "    }\n",
       "\n",
       "    .dataframe tbody tr th {\n",
       "        vertical-align: top;\n",
       "    }\n",
       "\n",
       "    .dataframe thead th {\n",
       "        text-align: right;\n",
       "    }\n",
       "</style>\n",
       "<table border=\"1\" class=\"dataframe\">\n",
       "  <thead>\n",
       "    <tr style=\"text-align: right;\">\n",
       "      <th></th>\n",
       "      <th>R2 score</th>\n",
       "      <th>Mean Absolute Error</th>\n",
       "      <th>Mean Sqaured Error</th>\n",
       "    </tr>\n",
       "  </thead>\n",
       "  <tbody>\n",
       "    <tr>\n",
       "      <th>knn</th>\n",
       "      <td>1.0</td>\n",
       "      <td>7.205465</td>\n",
       "      <td>182.560593</td>\n",
       "    </tr>\n",
       "  </tbody>\n",
       "</table>\n",
       "</div>"
      ],
      "text/plain": [
       "     R2 score  Mean Absolute Error  Mean Sqaured Error\n",
       "knn       1.0             7.205465          182.560593"
      ]
     },
     "execution_count": 68,
     "metadata": {},
     "output_type": "execute_result"
    }
   ],
   "source": [
    "reg_results(y_test, knn_predictions, 'knn')"
   ]
  },
  {
   "cell_type": "code",
   "execution_count": 69,
   "metadata": {},
   "outputs": [
    {
     "data": {
      "text/html": [
       "<div>\n",
       "<style scoped>\n",
       "    .dataframe tbody tr th:only-of-type {\n",
       "        vertical-align: middle;\n",
       "    }\n",
       "\n",
       "    .dataframe tbody tr th {\n",
       "        vertical-align: top;\n",
       "    }\n",
       "\n",
       "    .dataframe thead th {\n",
       "        text-align: right;\n",
       "    }\n",
       "</style>\n",
       "<table border=\"1\" class=\"dataframe\">\n",
       "  <thead>\n",
       "    <tr style=\"text-align: right;\">\n",
       "      <th></th>\n",
       "      <th>R2 score</th>\n",
       "      <th>Mean Absolute Error</th>\n",
       "      <th>Mean Sqaured Error</th>\n",
       "    </tr>\n",
       "  </thead>\n",
       "  <tbody>\n",
       "    <tr>\n",
       "      <th>svm</th>\n",
       "      <td>1.0</td>\n",
       "      <td>11.891955</td>\n",
       "      <td>269.680305</td>\n",
       "    </tr>\n",
       "  </tbody>\n",
       "</table>\n",
       "</div>"
      ],
      "text/plain": [
       "     R2 score  Mean Absolute Error  Mean Sqaured Error\n",
       "svm       1.0            11.891955          269.680305"
      ]
     },
     "execution_count": 69,
     "metadata": {},
     "output_type": "execute_result"
    }
   ],
   "source": [
    "reg_results(y_test, svm_predictions, 'svm')"
   ]
  },
  {
   "cell_type": "code",
   "execution_count": 70,
   "metadata": {},
   "outputs": [
    {
     "data": {
      "text/html": [
       "<div>\n",
       "<style scoped>\n",
       "    .dataframe tbody tr th:only-of-type {\n",
       "        vertical-align: middle;\n",
       "    }\n",
       "\n",
       "    .dataframe tbody tr th {\n",
       "        vertical-align: top;\n",
       "    }\n",
       "\n",
       "    .dataframe thead th {\n",
       "        text-align: right;\n",
       "    }\n",
       "</style>\n",
       "<table border=\"1\" class=\"dataframe\">\n",
       "  <thead>\n",
       "    <tr style=\"text-align: right;\">\n",
       "      <th></th>\n",
       "      <th>R2 score</th>\n",
       "      <th>Mean Absolute Error</th>\n",
       "      <th>Mean Sqaured Error</th>\n",
       "    </tr>\n",
       "  </thead>\n",
       "  <tbody>\n",
       "    <tr>\n",
       "      <th>dt</th>\n",
       "      <td>1.0</td>\n",
       "      <td>8.963098</td>\n",
       "      <td>263.300227</td>\n",
       "    </tr>\n",
       "  </tbody>\n",
       "</table>\n",
       "</div>"
      ],
      "text/plain": [
       "    R2 score  Mean Absolute Error  Mean Sqaured Error\n",
       "dt       1.0             8.963098          263.300227"
      ]
     },
     "execution_count": 70,
     "metadata": {},
     "output_type": "execute_result"
    }
   ],
   "source": [
    "reg_results(y_test, dt_predictions, 'dt')"
   ]
  },
  {
   "cell_type": "code",
   "execution_count": 71,
   "metadata": {},
   "outputs": [
    {
     "data": {
      "text/html": [
       "<div>\n",
       "<style scoped>\n",
       "    .dataframe tbody tr th:only-of-type {\n",
       "        vertical-align: middle;\n",
       "    }\n",
       "\n",
       "    .dataframe tbody tr th {\n",
       "        vertical-align: top;\n",
       "    }\n",
       "\n",
       "    .dataframe thead th {\n",
       "        text-align: right;\n",
       "    }\n",
       "</style>\n",
       "<table border=\"1\" class=\"dataframe\">\n",
       "  <thead>\n",
       "    <tr style=\"text-align: right;\">\n",
       "      <th></th>\n",
       "      <th>R2 score</th>\n",
       "      <th>Mean Absolute Error</th>\n",
       "      <th>Mean Sqaured Error</th>\n",
       "    </tr>\n",
       "  </thead>\n",
       "  <tbody>\n",
       "    <tr>\n",
       "      <th>mlp</th>\n",
       "      <td>0.993835</td>\n",
       "      <td>96498.919182</td>\n",
       "      <td>3.659241e+10</td>\n",
       "    </tr>\n",
       "  </tbody>\n",
       "</table>\n",
       "</div>"
      ],
      "text/plain": [
       "     R2 score  Mean Absolute Error  Mean Sqaured Error\n",
       "mlp  0.993835         96498.919182        3.659241e+10"
      ]
     },
     "execution_count": 71,
     "metadata": {},
     "output_type": "execute_result"
    }
   ],
   "source": [
    "reg_results(y_test, mlp_predictions, 'mlp')"
   ]
  },
  {
   "cell_type": "code",
   "execution_count": 72,
   "metadata": {
    "scrolled": false
   },
   "outputs": [
    {
     "name": "stdout",
     "output_type": "stream",
     "text": [
      "              precision    recall  f1-score   support\n",
      "\n",
      "           0       1.00      1.00      1.00       536\n",
      "           1       1.00      0.99      0.99       307\n",
      "           2       0.98      1.00      0.99       268\n",
      "\n",
      "    accuracy                           0.99      1111\n",
      "   macro avg       0.99      0.99      0.99      1111\n",
      "weighted avg       0.99      0.99      0.99      1111\n",
      "\n"
     ]
    }
   ],
   "source": [
    "k = clf_results(y_test, knn_predictions, 'knn')\n",
    "print(k[0]) # Building"
   ]
  },
  {
   "cell_type": "code",
   "execution_count": 73,
   "metadata": {
    "scrolled": true
   },
   "outputs": [
    {
     "name": "stdout",
     "output_type": "stream",
     "text": [
      "              precision    recall  f1-score   support\n",
      "\n",
      "           0       0.72      0.89      0.79       132\n",
      "           1       0.96      0.81      0.88       462\n",
      "           2       0.79      0.78      0.79       306\n",
      "           3       0.73      0.95      0.82       172\n",
      "           4       0.96      0.69      0.81        39\n",
      "\n",
      "    accuracy                           0.83      1111\n",
      "   macro avg       0.83      0.83      0.82      1111\n",
      "weighted avg       0.85      0.83      0.83      1111\n",
      "\n"
     ]
    }
   ],
   "source": [
    "print(k[1]) # Floor"
   ]
  },
  {
   "cell_type": "code",
   "execution_count": 74,
   "metadata": {
    "scrolled": true
   },
   "outputs": [
    {
     "name": "stdout",
     "output_type": "stream",
     "text": [
      "              precision    recall  f1-score   support\n",
      "\n",
      "           0       1.00      1.00      1.00       536\n",
      "           1       1.00      1.00      1.00       307\n",
      "           2       0.99      1.00      1.00       268\n",
      "\n",
      "    accuracy                           1.00      1111\n",
      "   macro avg       1.00      1.00      1.00      1111\n",
      "weighted avg       1.00      1.00      1.00      1111\n",
      "\n"
     ]
    }
   ],
   "source": [
    "s = clf_results(y_test, svm_predictions, 'svm')\n",
    "print(s[0]) # Building"
   ]
  },
  {
   "cell_type": "code",
   "execution_count": 75,
   "metadata": {
    "scrolled": true
   },
   "outputs": [
    {
     "name": "stdout",
     "output_type": "stream",
     "text": [
      "              precision    recall  f1-score   support\n",
      "\n",
      "           0       0.83      0.90      0.87       132\n",
      "           1       0.96      0.85      0.90       462\n",
      "           2       0.84      0.92      0.88       306\n",
      "           3       0.88      0.94      0.90       172\n",
      "           4       0.89      0.79      0.84        39\n",
      "\n",
      "    accuracy                           0.89      1111\n",
      "   macro avg       0.88      0.88      0.88      1111\n",
      "weighted avg       0.89      0.89      0.89      1111\n",
      "\n"
     ]
    }
   ],
   "source": [
    "print(s[1]) # Floor"
   ]
  },
  {
   "cell_type": "code",
   "execution_count": 76,
   "metadata": {
    "scrolled": false
   },
   "outputs": [
    {
     "name": "stdout",
     "output_type": "stream",
     "text": [
      "              precision    recall  f1-score   support\n",
      "\n",
      "           0       1.00      0.99      0.99       536\n",
      "           1       0.99      0.98      0.98       307\n",
      "           2       0.96      1.00      0.98       268\n",
      "\n",
      "    accuracy                           0.99      1111\n",
      "   macro avg       0.98      0.99      0.99      1111\n",
      "weighted avg       0.99      0.99      0.99      1111\n",
      "\n"
     ]
    }
   ],
   "source": [
    "d = clf_results(y_test, dt_predictions, 'dt')\n",
    "print(d[0]) # Building"
   ]
  },
  {
   "cell_type": "code",
   "execution_count": 77,
   "metadata": {
    "scrolled": true
   },
   "outputs": [
    {
     "name": "stdout",
     "output_type": "stream",
     "text": [
      "              precision    recall  f1-score   support\n",
      "\n",
      "           0       0.77      0.80      0.78       132\n",
      "           1       0.91      0.81      0.86       462\n",
      "           2       0.77      0.82      0.79       306\n",
      "           3       0.72      0.90      0.80       172\n",
      "           4       0.82      0.46      0.59        39\n",
      "\n",
      "    accuracy                           0.81      1111\n",
      "   macro avg       0.80      0.76      0.76      1111\n",
      "weighted avg       0.82      0.81      0.81      1111\n",
      "\n"
     ]
    }
   ],
   "source": [
    "print(d[1]) # Floor"
   ]
  },
  {
   "cell_type": "code",
   "execution_count": 78,
   "metadata": {
    "scrolled": true
   },
   "outputs": [
    {
     "name": "stdout",
     "output_type": "stream",
     "text": [
      "              precision    recall  f1-score   support\n",
      "\n",
      "           0       1.00      1.00      1.00       536\n",
      "           1       0.99      0.98      0.99       307\n",
      "           2       0.98      0.99      0.99       268\n",
      "\n",
      "    accuracy                           0.99      1111\n",
      "   macro avg       0.99      0.99      0.99      1111\n",
      "weighted avg       0.99      0.99      0.99      1111\n",
      "\n"
     ]
    }
   ],
   "source": [
    "m = clf_results(y_test, mlp_predictions, 'mlp')\n",
    "print(m[0]) # Building"
   ]
  },
  {
   "cell_type": "code",
   "execution_count": 79,
   "metadata": {},
   "outputs": [
    {
     "name": "stdout",
     "output_type": "stream",
     "text": [
      "              precision    recall  f1-score   support\n",
      "\n",
      "           0       0.80      0.83      0.81       132\n",
      "           1       0.93      0.85      0.89       462\n",
      "           2       0.83      0.91      0.87       306\n",
      "           3       0.86      0.92      0.89       172\n",
      "           4       0.94      0.77      0.85        39\n",
      "\n",
      "    accuracy                           0.87      1111\n",
      "   macro avg       0.87      0.86      0.86      1111\n",
      "weighted avg       0.88      0.87      0.87      1111\n",
      "\n"
     ]
    }
   ],
   "source": [
    "print(m[1]) # Floor"
   ]
  }
 ],
 "metadata": {
  "kernelspec": {
   "display_name": "tensy",
   "language": "python",
   "name": "tensy"
  },
  "language_info": {
   "codemirror_mode": {
    "name": "ipython",
    "version": 3
   },
   "file_extension": ".py",
   "mimetype": "text/x-python",
   "name": "python",
   "nbconvert_exporter": "python",
   "pygments_lexer": "ipython3",
   "version": "3.7.9"
  }
 },
 "nbformat": 4,
 "nbformat_minor": 4
}
